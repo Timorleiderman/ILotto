{
 "cells": [
  {
   "cell_type": "code",
   "execution_count": 1,
   "metadata": {},
   "outputs": [
    {
     "name": "stdout",
     "output_type": "stream",
     "text": [
      "Tensorflow version 2.19.0\n"
     ]
    }
   ],
   "source": [
    "import os\n",
    "import numpy as np\n",
    "import pandas as pd\n",
    "import tensorflow as tf\n",
    "from tensorflow.keras import callbacks\n",
    "from helpers import ILottoCSV, beam_search_decoder\n",
    "from ilotto import ILotto, CosineAnnealingScheduler\n",
    "from helpers import fetch_dataset, train_test_split\n",
    "from train import get_compiled_model, train\n",
    "\n",
    "print(\"Tensorflow version \" + tf.__version__)\n",
    "tf.config.optimizer.set_jit(True)"
   ]
  },
  {
   "cell_type": "code",
   "execution_count": 2,
   "metadata": {},
   "outputs": [
    {
     "name": "stdout",
     "output_type": "stream",
     "text": [
      "            Ball_1  Ball_2  Ball_3  Ball_4  Ball_5  Ball_6  Ball_Bonus\n",
      "Date                                                                  \n",
      "25/03/2025       6      13      18      20      22      28           5\n",
      "22/03/2025       1       3       8      14      17      33           2\n",
      "20/03/2025       2       8      11      21      25      34           2\n",
      "18/03/2025      10      11      23      26      29      34           1\n",
      "15/03/2025       4       7       9      10      12      27           7\n",
      "...            ...     ...     ...     ...     ...     ...         ...\n",
      "29/10/1968       3       9      26      32      34      36           1\n",
      "15/10/1968       1       6      23      29      33      34           7\n",
      "08/10/1968       7       9      10      17      23      34           4\n",
      "01/10/1968       1       7       8       9      11      30           4\n",
      "03/09/1968       3      14      18      22      25      33           2\n",
      "\n",
      "[2317 rows x 7 columns]\n"
     ]
    }
   ],
   "source": [
    "orig_lotto_csv=\"input/Orig_IL_lotto.csv\"\n",
    "lotto_csv_file=\"input/lotto_IL_filtered.csv\"\n",
    "\n",
    "lotto_ds = fetch_dataset(orig_lotto_csv, lotto_csv_file)\n",
    "X_train, y_train, X_test, y_test = train_test_split(lotto_ds)\n",
    "\n",
    "ILottoCSV(orig_lotto_csv, lotto_csv_file)\n",
    "\n",
    "lotto = pd.read_csv(lotto_csv_file, index_col = 'Date')\n",
    "print(lotto)"
   ]
  },
  {
   "cell_type": "code",
   "execution_count": 3,
   "metadata": {},
   "outputs": [
    {
     "name": "stdout",
     "output_type": "stream",
     "text": [
      "(2257, 10, 7)\n",
      "(2257, 7)\n",
      "(50, 10, 7)\n",
      "(50, 7)\n"
     ]
    }
   ],
   "source": [
    "print(X_train.shape)\n",
    "print(y_train.shape)\n",
    "print(X_test.shape)\n",
    "print(y_test.shape)"
   ]
  },
  {
   "cell_type": "code",
   "execution_count": null,
   "metadata": {},
   "outputs": [
    {
     "data": {
      "text/html": [
       "<pre style=\"white-space:pre;overflow-x:auto;line-height:normal;font-family:Menlo,'DejaVu Sans Mono',consolas,'Courier New',monospace\"><span style=\"font-weight: bold\">Model: \"\"</span>\n",
       "</pre>\n"
      ],
      "text/plain": [
       "\u001b[1mModel: \"\"\u001b[0m\n"
      ]
     },
     "metadata": {},
     "output_type": "display_data"
    },
    {
     "data": {
      "text/html": [
       "<pre style=\"white-space:pre;overflow-x:auto;line-height:normal;font-family:Menlo,'DejaVu Sans Mono',consolas,'Courier New',monospace\">┏━━━━━━━━━━━━━━━━━━━━━━━━━━━━━━━━━┳━━━━━━━━━━━━━━━━━━━━━━━━┳━━━━━━━━━━━━━━━┓\n",
       "┃<span style=\"font-weight: bold\"> Layer (type)                    </span>┃<span style=\"font-weight: bold\"> Output Shape           </span>┃<span style=\"font-weight: bold\">       Param # </span>┃\n",
       "┡━━━━━━━━━━━━━━━━━━━━━━━━━━━━━━━━━╇━━━━━━━━━━━━━━━━━━━━━━━━╇━━━━━━━━━━━━━━━┩\n",
       "│ embedding (<span style=\"color: #0087ff; text-decoration-color: #0087ff\">Embedding</span>)           │ ?                      │   <span style=\"color: #00af00; text-decoration-color: #00af00\">0</span> (unbuilt) │\n",
       "├─────────────────────────────────┼────────────────────────┼───────────────┤\n",
       "│ spatial_dropout1d               │ ?                      │             <span style=\"color: #00af00; text-decoration-color: #00af00\">0</span> │\n",
       "│ (<span style=\"color: #0087ff; text-decoration-color: #0087ff\">SpatialDropout1D</span>)              │                        │               │\n",
       "├─────────────────────────────────┼────────────────────────┼───────────────┤\n",
       "│ embedding_1 (<span style=\"color: #0087ff; text-decoration-color: #0087ff\">Embedding</span>)         │ ?                      │   <span style=\"color: #00af00; text-decoration-color: #00af00\">0</span> (unbuilt) │\n",
       "├─────────────────────────────────┼────────────────────────┼───────────────┤\n",
       "│ spatial_dropout1d_1             │ ?                      │             <span style=\"color: #00af00; text-decoration-color: #00af00\">0</span> │\n",
       "│ (<span style=\"color: #0087ff; text-decoration-color: #0087ff\">SpatialDropout1D</span>)              │                        │               │\n",
       "├─────────────────────────────────┼────────────────────────┼───────────────┤\n",
       "│ embedding_2 (<span style=\"color: #0087ff; text-decoration-color: #0087ff\">Embedding</span>)         │ ?                      │   <span style=\"color: #00af00; text-decoration-color: #00af00\">0</span> (unbuilt) │\n",
       "├─────────────────────────────────┼────────────────────────┼───────────────┤\n",
       "│ spatial_dropout1d_2             │ ?                      │             <span style=\"color: #00af00; text-decoration-color: #00af00\">0</span> │\n",
       "│ (<span style=\"color: #0087ff; text-decoration-color: #0087ff\">SpatialDropout1D</span>)              │                        │               │\n",
       "├─────────────────────────────────┼────────────────────────┼───────────────┤\n",
       "│ embedding_3 (<span style=\"color: #0087ff; text-decoration-color: #0087ff\">Embedding</span>)         │ ?                      │   <span style=\"color: #00af00; text-decoration-color: #00af00\">0</span> (unbuilt) │\n",
       "├─────────────────────────────────┼────────────────────────┼───────────────┤\n",
       "│ spatial_dropout1d_3             │ ?                      │             <span style=\"color: #00af00; text-decoration-color: #00af00\">0</span> │\n",
       "│ (<span style=\"color: #0087ff; text-decoration-color: #0087ff\">SpatialDropout1D</span>)              │                        │               │\n",
       "├─────────────────────────────────┼────────────────────────┼───────────────┤\n",
       "│ embedding_4 (<span style=\"color: #0087ff; text-decoration-color: #0087ff\">Embedding</span>)         │ ?                      │   <span style=\"color: #00af00; text-decoration-color: #00af00\">0</span> (unbuilt) │\n",
       "├─────────────────────────────────┼────────────────────────┼───────────────┤\n",
       "│ spatial_dropout1d_4             │ ?                      │             <span style=\"color: #00af00; text-decoration-color: #00af00\">0</span> │\n",
       "│ (<span style=\"color: #0087ff; text-decoration-color: #0087ff\">SpatialDropout1D</span>)              │                        │               │\n",
       "├─────────────────────────────────┼────────────────────────┼───────────────┤\n",
       "│ embedding_5 (<span style=\"color: #0087ff; text-decoration-color: #0087ff\">Embedding</span>)         │ ?                      │   <span style=\"color: #00af00; text-decoration-color: #00af00\">0</span> (unbuilt) │\n",
       "├─────────────────────────────────┼────────────────────────┼───────────────┤\n",
       "│ spatial_dropout1d_5             │ ?                      │             <span style=\"color: #00af00; text-decoration-color: #00af00\">0</span> │\n",
       "│ (<span style=\"color: #0087ff; text-decoration-color: #0087ff\">SpatialDropout1D</span>)              │                        │               │\n",
       "├─────────────────────────────────┼────────────────────────┼───────────────┤\n",
       "│ embedding_6 (<span style=\"color: #0087ff; text-decoration-color: #0087ff\">Embedding</span>)         │ ?                      │   <span style=\"color: #00af00; text-decoration-color: #00af00\">0</span> (unbuilt) │\n",
       "├─────────────────────────────────┼────────────────────────┼───────────────┤\n",
       "│ spatial_dropout1d_6             │ ?                      │             <span style=\"color: #00af00; text-decoration-color: #00af00\">0</span> │\n",
       "│ (<span style=\"color: #0087ff; text-decoration-color: #0087ff\">SpatialDropout1D</span>)              │                        │               │\n",
       "├─────────────────────────────────┼────────────────────────┼───────────────┤\n",
       "│ bidirectional (<span style=\"color: #0087ff; text-decoration-color: #0087ff\">Bidirectional</span>)   │ ?                      │   <span style=\"color: #00af00; text-decoration-color: #00af00\">0</span> (unbuilt) │\n",
       "├─────────────────────────────────┼────────────────────────┼───────────────┤\n",
       "│ bidirectional_1 (<span style=\"color: #0087ff; text-decoration-color: #0087ff\">Bidirectional</span>) │ ?                      │   <span style=\"color: #00af00; text-decoration-color: #00af00\">0</span> (unbuilt) │\n",
       "├─────────────────────────────────┼────────────────────────┼───────────────┤\n",
       "│ lstm_2 (<span style=\"color: #0087ff; text-decoration-color: #0087ff\">LSTM</span>)                   │ ?                      │   <span style=\"color: #00af00; text-decoration-color: #00af00\">0</span> (unbuilt) │\n",
       "├─────────────────────────────────┼────────────────────────┼───────────────┤\n",
       "│ lstm_3 (<span style=\"color: #0087ff; text-decoration-color: #0087ff\">LSTM</span>)                   │ ?                      │   <span style=\"color: #00af00; text-decoration-color: #00af00\">0</span> (unbuilt) │\n",
       "├─────────────────────────────────┼────────────────────────┼───────────────┤\n",
       "│ repeat_vector (<span style=\"color: #0087ff; text-decoration-color: #0087ff\">RepeatVector</span>)    │ ?                      │   <span style=\"color: #00af00; text-decoration-color: #00af00\">0</span> (unbuilt) │\n",
       "├─────────────────────────────────┼────────────────────────┼───────────────┤\n",
       "│ additive_attention              │ ?                      │   <span style=\"color: #00af00; text-decoration-color: #00af00\">0</span> (unbuilt) │\n",
       "│ (<span style=\"color: #0087ff; text-decoration-color: #0087ff\">AdditiveAttention</span>)             │                        │               │\n",
       "├─────────────────────────────────┼────────────────────────┼───────────────┤\n",
       "│ dense (<span style=\"color: #0087ff; text-decoration-color: #0087ff\">Dense</span>)                   │ ?                      │   <span style=\"color: #00af00; text-decoration-color: #00af00\">0</span> (unbuilt) │\n",
       "└─────────────────────────────────┴────────────────────────┴───────────────┘\n",
       "</pre>\n"
      ],
      "text/plain": [
       "┏━━━━━━━━━━━━━━━━━━━━━━━━━━━━━━━━━┳━━━━━━━━━━━━━━━━━━━━━━━━┳━━━━━━━━━━━━━━━┓\n",
       "┃\u001b[1m \u001b[0m\u001b[1mLayer (type)                   \u001b[0m\u001b[1m \u001b[0m┃\u001b[1m \u001b[0m\u001b[1mOutput Shape          \u001b[0m\u001b[1m \u001b[0m┃\u001b[1m \u001b[0m\u001b[1m      Param #\u001b[0m\u001b[1m \u001b[0m┃\n",
       "┡━━━━━━━━━━━━━━━━━━━━━━━━━━━━━━━━━╇━━━━━━━━━━━━━━━━━━━━━━━━╇━━━━━━━━━━━━━━━┩\n",
       "│ embedding (\u001b[38;5;33mEmbedding\u001b[0m)           │ ?                      │   \u001b[38;5;34m0\u001b[0m (unbuilt) │\n",
       "├─────────────────────────────────┼────────────────────────┼───────────────┤\n",
       "│ spatial_dropout1d               │ ?                      │             \u001b[38;5;34m0\u001b[0m │\n",
       "│ (\u001b[38;5;33mSpatialDropout1D\u001b[0m)              │                        │               │\n",
       "├─────────────────────────────────┼────────────────────────┼───────────────┤\n",
       "│ embedding_1 (\u001b[38;5;33mEmbedding\u001b[0m)         │ ?                      │   \u001b[38;5;34m0\u001b[0m (unbuilt) │\n",
       "├─────────────────────────────────┼────────────────────────┼───────────────┤\n",
       "│ spatial_dropout1d_1             │ ?                      │             \u001b[38;5;34m0\u001b[0m │\n",
       "│ (\u001b[38;5;33mSpatialDropout1D\u001b[0m)              │                        │               │\n",
       "├─────────────────────────────────┼────────────────────────┼───────────────┤\n",
       "│ embedding_2 (\u001b[38;5;33mEmbedding\u001b[0m)         │ ?                      │   \u001b[38;5;34m0\u001b[0m (unbuilt) │\n",
       "├─────────────────────────────────┼────────────────────────┼───────────────┤\n",
       "│ spatial_dropout1d_2             │ ?                      │             \u001b[38;5;34m0\u001b[0m │\n",
       "│ (\u001b[38;5;33mSpatialDropout1D\u001b[0m)              │                        │               │\n",
       "├─────────────────────────────────┼────────────────────────┼───────────────┤\n",
       "│ embedding_3 (\u001b[38;5;33mEmbedding\u001b[0m)         │ ?                      │   \u001b[38;5;34m0\u001b[0m (unbuilt) │\n",
       "├─────────────────────────────────┼────────────────────────┼───────────────┤\n",
       "│ spatial_dropout1d_3             │ ?                      │             \u001b[38;5;34m0\u001b[0m │\n",
       "│ (\u001b[38;5;33mSpatialDropout1D\u001b[0m)              │                        │               │\n",
       "├─────────────────────────────────┼────────────────────────┼───────────────┤\n",
       "│ embedding_4 (\u001b[38;5;33mEmbedding\u001b[0m)         │ ?                      │   \u001b[38;5;34m0\u001b[0m (unbuilt) │\n",
       "├─────────────────────────────────┼────────────────────────┼───────────────┤\n",
       "│ spatial_dropout1d_4             │ ?                      │             \u001b[38;5;34m0\u001b[0m │\n",
       "│ (\u001b[38;5;33mSpatialDropout1D\u001b[0m)              │                        │               │\n",
       "├─────────────────────────────────┼────────────────────────┼───────────────┤\n",
       "│ embedding_5 (\u001b[38;5;33mEmbedding\u001b[0m)         │ ?                      │   \u001b[38;5;34m0\u001b[0m (unbuilt) │\n",
       "├─────────────────────────────────┼────────────────────────┼───────────────┤\n",
       "│ spatial_dropout1d_5             │ ?                      │             \u001b[38;5;34m0\u001b[0m │\n",
       "│ (\u001b[38;5;33mSpatialDropout1D\u001b[0m)              │                        │               │\n",
       "├─────────────────────────────────┼────────────────────────┼───────────────┤\n",
       "│ embedding_6 (\u001b[38;5;33mEmbedding\u001b[0m)         │ ?                      │   \u001b[38;5;34m0\u001b[0m (unbuilt) │\n",
       "├─────────────────────────────────┼────────────────────────┼───────────────┤\n",
       "│ spatial_dropout1d_6             │ ?                      │             \u001b[38;5;34m0\u001b[0m │\n",
       "│ (\u001b[38;5;33mSpatialDropout1D\u001b[0m)              │                        │               │\n",
       "├─────────────────────────────────┼────────────────────────┼───────────────┤\n",
       "│ bidirectional (\u001b[38;5;33mBidirectional\u001b[0m)   │ ?                      │   \u001b[38;5;34m0\u001b[0m (unbuilt) │\n",
       "├─────────────────────────────────┼────────────────────────┼───────────────┤\n",
       "│ bidirectional_1 (\u001b[38;5;33mBidirectional\u001b[0m) │ ?                      │   \u001b[38;5;34m0\u001b[0m (unbuilt) │\n",
       "├─────────────────────────────────┼────────────────────────┼───────────────┤\n",
       "│ lstm_2 (\u001b[38;5;33mLSTM\u001b[0m)                   │ ?                      │   \u001b[38;5;34m0\u001b[0m (unbuilt) │\n",
       "├─────────────────────────────────┼────────────────────────┼───────────────┤\n",
       "│ lstm_3 (\u001b[38;5;33mLSTM\u001b[0m)                   │ ?                      │   \u001b[38;5;34m0\u001b[0m (unbuilt) │\n",
       "├─────────────────────────────────┼────────────────────────┼───────────────┤\n",
       "│ repeat_vector (\u001b[38;5;33mRepeatVector\u001b[0m)    │ ?                      │   \u001b[38;5;34m0\u001b[0m (unbuilt) │\n",
       "├─────────────────────────────────┼────────────────────────┼───────────────┤\n",
       "│ additive_attention              │ ?                      │   \u001b[38;5;34m0\u001b[0m (unbuilt) │\n",
       "│ (\u001b[38;5;33mAdditiveAttention\u001b[0m)             │                        │               │\n",
       "├─────────────────────────────────┼────────────────────────┼───────────────┤\n",
       "│ dense (\u001b[38;5;33mDense\u001b[0m)                   │ ?                      │   \u001b[38;5;34m0\u001b[0m (unbuilt) │\n",
       "└─────────────────────────────────┴────────────────────────┴───────────────┘\n"
      ]
     },
     "metadata": {},
     "output_type": "display_data"
    },
    {
     "data": {
      "text/html": [
       "<pre style=\"white-space:pre;overflow-x:auto;line-height:normal;font-family:Menlo,'DejaVu Sans Mono',consolas,'Courier New',monospace\"><span style=\"font-weight: bold\"> Total params: </span><span style=\"color: #00af00; text-decoration-color: #00af00\">0</span> (0.00 B)\n",
       "</pre>\n"
      ],
      "text/plain": [
       "\u001b[1m Total params: \u001b[0m\u001b[38;5;34m0\u001b[0m (0.00 B)\n"
      ]
     },
     "metadata": {},
     "output_type": "display_data"
    },
    {
     "data": {
      "text/html": [
       "<pre style=\"white-space:pre;overflow-x:auto;line-height:normal;font-family:Menlo,'DejaVu Sans Mono',consolas,'Courier New',monospace\"><span style=\"font-weight: bold\"> Trainable params: </span><span style=\"color: #00af00; text-decoration-color: #00af00\">0</span> (0.00 B)\n",
       "</pre>\n"
      ],
      "text/plain": [
       "\u001b[1m Trainable params: \u001b[0m\u001b[38;5;34m0\u001b[0m (0.00 B)\n"
      ]
     },
     "metadata": {},
     "output_type": "display_data"
    },
    {
     "data": {
      "text/html": [
       "<pre style=\"white-space:pre;overflow-x:auto;line-height:normal;font-family:Menlo,'DejaVu Sans Mono',consolas,'Courier New',monospace\"><span style=\"font-weight: bold\"> Non-trainable params: </span><span style=\"color: #00af00; text-decoration-color: #00af00\">0</span> (0.00 B)\n",
       "</pre>\n"
      ],
      "text/plain": [
       "\u001b[1m Non-trainable params: \u001b[0m\u001b[38;5;34m0\u001b[0m (0.00 B)\n"
      ]
     },
     "metadata": {},
     "output_type": "display_data"
    }
   ],
   "source": [
    "epochs=3\n",
    "lr_max = 1e-4\n",
    "lr_min = 1e-6\n",
    "batch_size = 32\n",
    "model = get_compiled_model(epochs, lr_max=lr_max, lr_min=lr_min)\n",
    "\n",
    "model.summary()\n"
   ]
  },
  {
   "cell_type": "code",
   "execution_count": 5,
   "metadata": {},
   "outputs": [
    {
     "name": "stdout",
     "output_type": "stream",
     "text": [
      "Epoch 1/3\n",
      "\u001b[1m68/71\u001b[0m \u001b[32m━━━━━━━━━━━━━━━━━━━\u001b[0m\u001b[37m━\u001b[0m \u001b[1m0s\u001b[0m 12ms/step - loss: 3.6099 - sparse_top_k: 0.1450\n",
      "Epoch 1: saving model to training_2/cp-0001.weights.h5\n",
      "\u001b[1m71/71\u001b[0m \u001b[32m━━━━━━━━━━━━━━━━━━━━\u001b[0m\u001b[37m\u001b[0m \u001b[1m4s\u001b[0m 18ms/step - loss: 3.6099 - sparse_top_k: 0.1450 - val_loss: 3.6097 - val_sparse_top_k: 0.1600\n",
      "Epoch 2/3\n",
      "\u001b[1m69/71\u001b[0m \u001b[32m━━━━━━━━━━━━━━━━━━━\u001b[0m\u001b[37m━\u001b[0m \u001b[1m0s\u001b[0m 17ms/step - loss: 3.6095 - sparse_top_k: 0.1455\n",
      "Epoch 2: saving model to training_2/cp-0002.weights.h5\n",
      "\u001b[1m71/71\u001b[0m \u001b[32m━━━━━━━━━━━━━━━━━━━━\u001b[0m\u001b[37m\u001b[0m \u001b[1m1s\u001b[0m 17ms/step - loss: 3.6095 - sparse_top_k: 0.1457 - val_loss: 3.6097 - val_sparse_top_k: 0.1600\n",
      "Epoch 3/3\n",
      "\u001b[1m70/71\u001b[0m \u001b[32m━━━━━━━━━━━━━━━━━━━\u001b[0m\u001b[37m━\u001b[0m \u001b[1m0s\u001b[0m 18ms/step - loss: 3.6095 - sparse_top_k: 0.1512\n",
      "Epoch 3: saving model to training_2/cp-0003.weights.h5\n",
      "\u001b[1m71/71\u001b[0m \u001b[32m━━━━━━━━━━━━━━━━━━━━\u001b[0m\u001b[37m\u001b[0m \u001b[1m1s\u001b[0m 19ms/step - loss: 3.6095 - sparse_top_k: 0.1511 - val_loss: 3.6097 - val_sparse_top_k: 0.1600\n"
     ]
    }
   ],
   "source": [
    "history = train(model, X_train, y_train, X_test, y_test, epochs=epochs, batch_size=batch_size, lr_max=lr_max, lr_min=lr_min)"
   ]
  },
  {
   "cell_type": "code",
   "execution_count": 6,
   "metadata": {},
   "outputs": [],
   "source": [
    "hist = pd.DataFrame(history)"
   ]
  },
  {
   "cell_type": "code",
   "execution_count": 7,
   "metadata": {},
   "outputs": [
    {
     "name": "stdout",
     "output_type": "stream",
     "text": [
      "0.1599999964237213\n"
     ]
    },
    {
     "data": {
      "image/png": "[encoded data removed]",
      "text/plain": [
       "<Figure size 800x600 with 1 Axes>"
      ]
     },
     "metadata": {},
     "output_type": "display_data"
    }
   ],
   "source": [
    "import matplotlib.pyplot as plt\n",
    "print(hist['val_sparse_top_k'].max())\n",
    "\n",
    "plt.figure(figsize = (8, 6))\n",
    "plt.semilogy(hist['sparse_top_k'], '-r', label = 'Training')\n",
    "plt.semilogy(hist['val_sparse_top_k'], '-b', label = 'Validation')\n",
    "plt.ylabel('Sparse Top K Accuracy', fontsize = 14)\n",
    "plt.xlabel('Epochs', fontsize = 14)\n",
    "plt.legend(fontsize = 14)\n",
    "plt.grid()\n",
    "plt.show()"
   ]
  },
  {
   "cell_type": "code",
   "execution_count": 8,
   "metadata": {},
   "outputs": [
    {
     "name": "stdout",
     "output_type": "stream",
     "text": [
      "\u001b[1m2/2\u001b[0m \u001b[32m━━━━━━━━━━━━━━━━━━━━\u001b[0m\u001b[37m\u001b[0m \u001b[1m1s\u001b[0m 291ms/step\n"
     ]
    }
   ],
   "source": [
    "model.load_weights('model/Ilotto.keras')\n",
    "pred = model.predict(X_test)\n",
    "pred = np.argmax(pred, axis = 2)"
   ]
  },
  {
   "cell_type": "code",
   "execution_count": 9,
   "metadata": {},
   "outputs": [
    {
     "name": "stdout",
     "output_type": "stream",
     "text": [
      "Prediction:\t [10 10 10 10 10 10 10]\n",
      "GoundTruth:\t [ 6 13 18 20 22 28  5]\n",
      "----------------------------------------\n",
      "Prediction:\t [10 10 10 10 10 10 10]\n",
      "GoundTruth:\t [ 1  3  8 14 17 33  2]\n",
      "----------------------------------------\n",
      "Prediction:\t [10 10 10 10 10 10 10]\n",
      "GoundTruth:\t [ 2  8 11 21 25 34  2]\n",
      "----------------------------------------\n",
      "Prediction:\t [10 10 32 32 32 32 32]\n",
      "GoundTruth:\t [10 11 23 26 29 34  1]\n",
      "----------------------------------------\n",
      "Prediction:\t [10 10 10 10 10 32 32]\n",
      "GoundTruth:\t [ 4  7  9 10 12 27  7]\n",
      "----------------------------------------\n",
      "Prediction:\t [10 10 32 32 32 32 32]\n",
      "GoundTruth:\t [ 3  5 14 19 22 27  2]\n",
      "----------------------------------------\n",
      "Prediction:\t [32 32 32 32 32 32 32]\n",
      "GoundTruth:\t [ 1  4 16 26 27 34  2]\n",
      "----------------------------------------\n",
      "Prediction:\t [32 32 32 32 32 32 32]\n",
      "GoundTruth:\t [11 15 21 22 28 29  1]\n",
      "----------------------------------------\n",
      "Prediction:\t [32 32 32 32 32 32 32]\n",
      "GoundTruth:\t [15 17 21 30 34 37  7]\n",
      "----------------------------------------\n",
      "Prediction:\t [ 5  5 32 32 32 32 32]\n",
      "GoundTruth:\t [ 2  3  7 10 14 18  1]\n",
      "----------------------------------------\n",
      "Prediction:\t [32 32 32 32 32 32 32]\n",
      "GoundTruth:\t [ 3  7  8 21 24 35  2]\n",
      "----------------------------------------\n",
      "Prediction:\t [ 5  5  5  5 30 30 30]\n",
      "GoundTruth:\t [ 3 14 25 29 30 31  6]\n",
      "----------------------------------------\n",
      "Prediction:\t [5 5 5 5 5 5 5]\n",
      "GoundTruth:\t [12 13 21 23 24 33  3]\n",
      "----------------------------------------\n",
      "Prediction:\t [5 5 5 5 5 5 5]\n",
      "GoundTruth:\t [ 2 11 17 18 25 34  4]\n",
      "----------------------------------------\n",
      "Prediction:\t [5 5 5 5 5 5 5]\n",
      "GoundTruth:\t [10 20 26 28 30 33  3]\n",
      "----------------------------------------\n",
      "Prediction:\t [5 5 5 5 5 5 5]\n",
      "GoundTruth:\t [ 1  5 24 27 28 31  4]\n",
      "----------------------------------------\n",
      "Prediction:\t [5 5 5 5 5 5 5]\n",
      "GoundTruth:\t [ 2  9 12 15 19 37  7]\n",
      "----------------------------------------\n",
      "Prediction:\t [5 5 5 5 5 5 5]\n",
      "GoundTruth:\t [ 7 24 25 27 30 35  7]\n",
      "----------------------------------------\n",
      "Prediction:\t [10 10 10 10 10 10 10]\n",
      "GoundTruth:\t [ 2 11 17 19 20 31  6]\n",
      "----------------------------------------\n",
      "Prediction:\t [10 10 10 10 10 10 10]\n",
      "GoundTruth:\t [ 5  8 14 15 26 31  1]\n",
      "----------------------------------------\n",
      "Prediction:\t [10 10 10 10 25 25 25]\n",
      "GoundTruth:\t [ 4 13 16 30 32 37  1]\n",
      "----------------------------------------\n",
      "Prediction:\t [10 10 10 10 10 10 30]\n",
      "GoundTruth:\t [ 2 15 19 23 26 37  4]\n",
      "----------------------------------------\n",
      "Prediction:\t [10 10 10 10 10 10 10]\n",
      "GoundTruth:\t [11 14 23 24 34 35  3]\n",
      "----------------------------------------\n",
      "Prediction:\t [10 10 10 10 10 10 10]\n",
      "GoundTruth:\t [ 1  6 12 18 31 34  3]\n",
      "----------------------------------------\n",
      "Prediction:\t [10 10 10 10 10 10 30]\n",
      "GoundTruth:\t [ 2 21 25 32 34 35  6]\n",
      "----------------------------------------\n",
      "Prediction:\t [10 10 10 10  2  2  2]\n",
      "GoundTruth:\t [ 4  5 20 23 33 35  5]\n",
      "----------------------------------------\n",
      "Prediction:\t [10 10 10 10 10 10 10]\n",
      "GoundTruth:\t [ 6 17 21 22 28 33  5]\n",
      "----------------------------------------\n",
      "Prediction:\t [10 10 10 10 10 10 10]\n",
      "GoundTruth:\t [ 1  4 12 15 32 33  4]\n",
      "----------------------------------------\n",
      "Prediction:\t [10 10 10 10 10 10 10]\n",
      "GoundTruth:\t [ 6 13 15 24 30 34  7]\n",
      "----------------------------------------\n",
      "Prediction:\t [10 10 10 10 10 10 10]\n",
      "GoundTruth:\t [ 3  7 10 12 15 36  7]\n",
      "----------------------------------------\n",
      "Prediction:\t [10 10 10 10  2  2  2]\n",
      "GoundTruth:\t [14 18 22 26 29 35  5]\n",
      "----------------------------------------\n",
      "Prediction:\t [10 10 10  5  5  5  5]\n",
      "GoundTruth:\t [ 9 21 26 27 31 34  5]\n",
      "----------------------------------------\n",
      "Prediction:\t [10 10 10 25 25 25 25]\n",
      "GoundTruth:\t [ 2  3  6 10 27 32  2]\n",
      "----------------------------------------\n",
      "Prediction:\t [10 10 10 10 25 25 25]\n",
      "GoundTruth:\t [10 24 28 31 36 37  6]\n",
      "----------------------------------------\n",
      "Prediction:\t [10 10 25 25 25 25 25]\n",
      "GoundTruth:\t [ 4  5 11 20 27 32  7]\n",
      "----------------------------------------\n",
      "Prediction:\t [10 10 10 10  2  2  2]\n",
      "GoundTruth:\t [11 15 16 22 24 37  1]\n",
      "----------------------------------------\n",
      "Prediction:\t [10 10 10  2  2  2  2]\n",
      "GoundTruth:\t [ 2  7  9 19 20 35  7]\n",
      "----------------------------------------\n",
      "Prediction:\t [10 10 10  2  2  2  2]\n",
      "GoundTruth:\t [ 3  7 10 13 25 33  6]\n",
      "----------------------------------------\n",
      "Prediction:\t [2 2 2 2 2 2 2]\n",
      "GoundTruth:\t [ 3  7 24 28 30 34  1]\n",
      "----------------------------------------\n",
      "Prediction:\t [2 2 2 2 2 2 2]\n",
      "GoundTruth:\t [ 4 16 17 24 33 35  5]\n",
      "----------------------------------------\n",
      "Prediction:\t [10 10  2  2  2  2  2]\n",
      "GoundTruth:\t [ 1  6 16 23 26 27  2]\n",
      "----------------------------------------\n",
      "Prediction:\t [10 10 10  2  2  2  2]\n",
      "GoundTruth:\t [12 14 18 21 22 29  4]\n",
      "----------------------------------------\n",
      "Prediction:\t [10 10 10 10  2  2  2]\n",
      "GoundTruth:\t [ 4  5  9 10 21 26  2]\n",
      "----------------------------------------\n",
      "Prediction:\t [10 10 10 32 32 32 32]\n",
      "GoundTruth:\t [ 1  3  9 12 29 36  3]\n",
      "----------------------------------------\n",
      "Prediction:\t [10 32 32 32 32 32 32]\n",
      "GoundTruth:\t [ 3  7  9 11 23 34  4]\n",
      "----------------------------------------\n",
      "Prediction:\t [32 32 32 32 32 32 32]\n",
      "GoundTruth:\t [ 1 11 27 32 35 36  3]\n",
      "----------------------------------------\n",
      "Prediction:\t [32 32 32 32 32 32 32]\n",
      "GoundTruth:\t [ 5  6 13 25 28 36  7]\n",
      "----------------------------------------\n",
      "Prediction:\t [10 10 10 10 32 32 32]\n",
      "GoundTruth:\t [14 21 23 26 28 30  5]\n",
      "----------------------------------------\n",
      "Prediction:\t [10 10 10 10 10 10 10]\n",
      "GoundTruth:\t [ 3 15 21 23 27 30  1]\n",
      "----------------------------------------\n",
      "Prediction:\t [10 10 10 10 10 32 32]\n",
      "GoundTruth:\t [19 21 29 30 34 35  2]\n",
      "----------------------------------------\n"
     ]
    }
   ],
   "source": [
    "for i in range(y_test.shape[0]):\n",
    "    print('Prediction:\\t', pred[i] + 1)\n",
    "    print('GoundTruth:\\t', y_test[i] + 1)\n",
    "    print('-' * 40)"
   ]
  },
  {
   "cell_type": "code",
   "execution_count": 10,
   "metadata": {},
   "outputs": [
    {
     "name": "stdout",
     "output_type": "stream",
     "text": [
      "[[[ 1  7 18 23 26 31  4]\n",
      "  [ 4  8 15 24 29 30  7]\n",
      "  [11 16 28 29 31 35  3]\n",
      "  [ 5  7 19 26 32 33  6]\n",
      "  [ 8 18 25 29 32 35  2]\n",
      "  [ 5 13 30 33 34 36  3]\n",
      "  [ 5  6 26 27 30 32  2]\n",
      "  [17 22 27 33 34 35  2]\n",
      "  [ 7 12 15 22 28 33  6]\n",
      "  [ 6 13 18 20 22 28  5]]]\n"
     ]
    }
   ],
   "source": [
    "X_latest = X_test[0][1:]\n",
    "X_latest = np.concatenate([X_latest, y_test[0].reshape(1, 7)], axis = 0)\n",
    "X_latest = X_latest.reshape(1, X_latest.shape[0], X_latest.shape[1])\n",
    "print(X_latest + 1)"
   ]
  },
  {
   "cell_type": "code",
   "execution_count": 11,
   "metadata": {},
   "outputs": [
    {
     "name": "stdout",
     "output_type": "stream",
     "text": [
      "\u001b[1m1/1\u001b[0m \u001b[32m━━━━━━━━━━━━━━━━━━━━\u001b[0m\u001b[37m\u001b[0m \u001b[1m0s\u001b[0m 13ms/step\n",
      "[10 10 10 10 10 10 10]\n"
     ]
    }
   ],
   "source": [
    "pred_latest = model.predict(X_latest)\n",
    "pred_latest = np.squeeze(pred_latest)\n",
    "pred_latest_greedy = np.argmax(pred_latest, axis = 1)\n",
    "print(pred_latest_greedy + 1)"
   ]
  },
  {
   "cell_type": "code",
   "execution_count": 12,
   "metadata": {},
   "outputs": [
    {
     "name": "stdout",
     "output_type": "stream",
     "text": [
      "Beam Width:\t 10\n",
      "Replace:\t True\n",
      "-------------------------------------------------------------------------------------\n",
      "Prediction:  [10 10 10 10 10 10 10] \tLog Likelihood:  -25.11212881151218\n",
      "Prediction:  [10 10 10 10 10 10 25] \tLog Likelihood:  -25.112988428643607\n",
      "Prediction:  [10 10 10 10 10 10 32] \tLog Likelihood:  -25.11391582557085\n",
      "Prediction:  [10 10 10 10 10 25 10] \tLog Likelihood:  -25.11417786219936\n",
      "Prediction:  [10 10 10 10 10 32 10] \tLog Likelihood:  -25.11491745695615\n",
      "Prediction:  [10 10 10 10 10 25 25] \tLog Likelihood:  -25.115037479330788\n",
      "Prediction:  [10 10 10 10 25 10 10] \tLog Likelihood:  -25.11562121496488\n",
      "Prediction:  [10 10 10 10 10 32 25] \tLog Likelihood:  -25.11577707408758\n",
      "Prediction:  [10 10 10 10 10 25 32] \tLog Likelihood:  -25.115964876258033\n",
      "Prediction:  [10 10 10 10 32 10 10] \tLog Likelihood:  -25.11633611914877\n"
     ]
    }
   ],
   "source": [
    "beam_width = 10\n",
    "replace = True\n",
    "\n",
    "result = beam_search_decoder(pred_latest, beam_width, replace)\n",
    "print('Beam Width:\\t', beam_width)\n",
    "print('Replace:\\t', replace)\n",
    "print('-' * 85)\n",
    "for seq in result:\n",
    "    print('Prediction: ', np.array(seq[0]) + 1, '\\tLog Likelihood: ', seq[1])"
   ]
  },
  {
   "cell_type": "code",
   "execution_count": 13,
   "metadata": {},
   "outputs": [
    {
     "name": "stdout",
     "output_type": "stream",
     "text": [
      "Beam Width:\t 10\n",
      "Replace:\t False\n",
      "-------------------------------------------------------------------------------------\n",
      "Prediction:  [10  5 17 25 32  1 30] \tLog Likelihood:  -25.148803772591865\n",
      "Prediction:  [10  5 17 32 25  1 30] \tLog Likelihood:  -25.14901932606911\n",
      "Prediction:  [10  5 17 25 32 30  1] \tLog Likelihood:  -25.149141140810578\n",
      "Prediction:  [10  5 17 25 32 30  3] \tLog Likelihood:  -25.1491631551483\n",
      "Prediction:  [10  5 17 32 25 30  1] \tLog Likelihood:  -25.14935669428782\n",
      "Prediction:  [10  5 17 32 25 30  3] \tLog Likelihood:  -25.149378708625544\n",
      "Prediction:  [10  5 17 25 32  1  3] \tLog Likelihood:  -25.14944226331934\n",
      "Prediction:  [ 5 10 17 25 32  1 30] \tLog Likelihood:  -25.149610762481664\n",
      "Prediction:  [10  5 17 32 25  1  3] \tLog Likelihood:  -25.149657816796584\n",
      "Prediction:  [10  5 17 25 32  3 30] \tLog Likelihood:  -25.149710120268814\n"
     ]
    }
   ],
   "source": [
    "beam_width = 10\n",
    "replace = False\n",
    "\n",
    "result = beam_search_decoder(pred_latest, beam_width, replace)\n",
    "print('Beam Width:\\t', beam_width)\n",
    "print('Replace:\\t', replace)\n",
    "print('-' * 85)\n",
    "for seq in result:\n",
    "    print('Prediction: ', np.array(seq[0]) + 1, '\\tLog Likelihood: ', seq[1])"
   ]
  }
 ],
 "metadata": {
  "kernelspec": {
   "display_name": ".venv",
   "language": "python",
   "name": "python3"
  },
  "language_info": {
   "codemirror_mode": {
    "name": "ipython",
    "version": 3
   },
   "file_extension": ".py",
   "mimetype": "text/x-python",
   "name": "python",
   "nbconvert_exporter": "python",
   "pygments_lexer": "ipython3",
   "version": "3.12.7"
  },
  "orig_nbformat": 4
 },
 "nbformat": 4,
 "nbformat_minor": 2
}
