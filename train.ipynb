{
 "cells": [
  {
   "cell_type": "code",
   "execution_count": 1,
   "metadata": {},
   "outputs": [
    {
     "name": "stdout",
     "output_type": "stream",
     "text": [
      "Tensorflow version 2.19.0\n"
     ]
    }
   ],
   "source": [
    "import os\n",
    "import numpy as np\n",
    "import pandas as pd\n",
    "import tensorflow as tf\n",
    "import matplotlib.pyplot as plt\n",
    "\n",
    "from helpers import ILottoCSV, beam_search_decoder\n",
    "from helpers import fetch_dataset, train_test_split\n",
    "from train import get_compiled_model, train, EPOCHS, BATCH_SIZE, LR_MAX, LR_MIN\n",
    "\n",
    "print(\"Tensorflow version \" + tf.__version__)\n",
    "tf.config.optimizer.set_jit(True)"
   ]
  },
  {
   "cell_type": "code",
   "execution_count": 2,
   "metadata": {},
   "outputs": [
    {
     "name": "stdout",
     "output_type": "stream",
     "text": [
      "            Ball_1  Ball_2  Ball_3  Ball_4  Ball_5  Ball_6  Ball_Bonus\n",
      "Date                                                                  \n",
      "25/03/2025       6      13      18      20      22      28           5\n",
      "22/03/2025       1       3       8      14      17      33           2\n",
      "20/03/2025       2       8      11      21      25      34           2\n",
      "18/03/2025      10      11      23      26      29      34           1\n",
      "15/03/2025       4       7       9      10      12      27           7\n",
      "...            ...     ...     ...     ...     ...     ...         ...\n",
      "29/10/1968       3       9      26      32      34      36           1\n",
      "15/10/1968       1       6      23      29      33      34           7\n",
      "08/10/1968       7       9      10      17      23      34           4\n",
      "01/10/1968       1       7       8       9      11      30           4\n",
      "03/09/1968       3      14      18      22      25      33           2\n",
      "\n",
      "[2317 rows x 7 columns]\n"
     ]
    }
   ],
   "source": [
    "orig_lotto_csv=\"input/Orig_IL_lotto.csv\"\n",
    "lotto_csv_file=\"input/lotto_IL_filtered.csv\"\n",
    "\n",
    "lotto_ds = fetch_dataset(orig_lotto_csv, lotto_csv_file)\n",
    "X_train, y_train, X_test, y_test = train_test_split(lotto_ds)\n",
    "\n",
    "ILottoCSV(orig_lotto_csv, lotto_csv_file)\n",
    "\n",
    "lotto = pd.read_csv(lotto_csv_file, index_col = 'Date')\n",
    "print(lotto)"
   ]
  },
  {
   "cell_type": "code",
   "execution_count": 3,
   "metadata": {},
   "outputs": [
    {
     "name": "stdout",
     "output_type": "stream",
     "text": [
      "(2257, 10, 7)\n",
      "(2257, 7)\n",
      "(50, 10, 7)\n",
      "(50, 7)\n"
     ]
    }
   ],
   "source": [
    "print(X_train.shape)\n",
    "print(y_train.shape)\n",
    "print(X_test.shape)\n",
    "print(y_test.shape)"
   ]
  },
  {
   "cell_type": "code",
   "execution_count": 4,
   "metadata": {},
   "outputs": [
    {
     "data": {
      "text/html": [
       "<pre style=\"white-space:pre;overflow-x:auto;line-height:normal;font-family:Menlo,'DejaVu Sans Mono',consolas,'Courier New',monospace\"><span style=\"font-weight: bold\">Model: \"\"</span>\n",
       "</pre>\n"
      ],
      "text/plain": [
       "\u001b[1mModel: \"\"\u001b[0m\n"
      ]
     },
     "metadata": {},
     "output_type": "display_data"
    },
    {
     "data": {
      "text/html": [
       "<pre style=\"white-space:pre;overflow-x:auto;line-height:normal;font-family:Menlo,'DejaVu Sans Mono',consolas,'Courier New',monospace\">┏━━━━━━━━━━━━━━━━━━━━━━━━━━━━━━━━━┳━━━━━━━━━━━━━━━━━━━━━━━━┳━━━━━━━━━━━━━━━┓\n",
       "┃<span style=\"font-weight: bold\"> Layer (type)                    </span>┃<span style=\"font-weight: bold\"> Output Shape           </span>┃<span style=\"font-weight: bold\">       Param # </span>┃\n",
       "┡━━━━━━━━━━━━━━━━━━━━━━━━━━━━━━━━━╇━━━━━━━━━━━━━━━━━━━━━━━━╇━━━━━━━━━━━━━━━┩\n",
       "│ embedding (<span style=\"color: #0087ff; text-decoration-color: #0087ff\">Embedding</span>)           │ ?                      │   <span style=\"color: #00af00; text-decoration-color: #00af00\">0</span> (unbuilt) │\n",
       "├─────────────────────────────────┼────────────────────────┼───────────────┤\n",
       "│ spatial_dropout1d               │ ?                      │             <span style=\"color: #00af00; text-decoration-color: #00af00\">0</span> │\n",
       "│ (<span style=\"color: #0087ff; text-decoration-color: #0087ff\">SpatialDropout1D</span>)              │                        │               │\n",
       "├─────────────────────────────────┼────────────────────────┼───────────────┤\n",
       "│ embedding_1 (<span style=\"color: #0087ff; text-decoration-color: #0087ff\">Embedding</span>)         │ ?                      │   <span style=\"color: #00af00; text-decoration-color: #00af00\">0</span> (unbuilt) │\n",
       "├─────────────────────────────────┼────────────────────────┼───────────────┤\n",
       "│ spatial_dropout1d_1             │ ?                      │             <span style=\"color: #00af00; text-decoration-color: #00af00\">0</span> │\n",
       "│ (<span style=\"color: #0087ff; text-decoration-color: #0087ff\">SpatialDropout1D</span>)              │                        │               │\n",
       "├─────────────────────────────────┼────────────────────────┼───────────────┤\n",
       "│ embedding_2 (<span style=\"color: #0087ff; text-decoration-color: #0087ff\">Embedding</span>)         │ ?                      │   <span style=\"color: #00af00; text-decoration-color: #00af00\">0</span> (unbuilt) │\n",
       "├─────────────────────────────────┼────────────────────────┼───────────────┤\n",
       "│ spatial_dropout1d_2             │ ?                      │             <span style=\"color: #00af00; text-decoration-color: #00af00\">0</span> │\n",
       "│ (<span style=\"color: #0087ff; text-decoration-color: #0087ff\">SpatialDropout1D</span>)              │                        │               │\n",
       "├─────────────────────────────────┼────────────────────────┼───────────────┤\n",
       "│ embedding_3 (<span style=\"color: #0087ff; text-decoration-color: #0087ff\">Embedding</span>)         │ ?                      │   <span style=\"color: #00af00; text-decoration-color: #00af00\">0</span> (unbuilt) │\n",
       "├─────────────────────────────────┼────────────────────────┼───────────────┤\n",
       "│ spatial_dropout1d_3             │ ?                      │             <span style=\"color: #00af00; text-decoration-color: #00af00\">0</span> │\n",
       "│ (<span style=\"color: #0087ff; text-decoration-color: #0087ff\">SpatialDropout1D</span>)              │                        │               │\n",
       "├─────────────────────────────────┼────────────────────────┼───────────────┤\n",
       "│ embedding_4 (<span style=\"color: #0087ff; text-decoration-color: #0087ff\">Embedding</span>)         │ ?                      │   <span style=\"color: #00af00; text-decoration-color: #00af00\">0</span> (unbuilt) │\n",
       "├─────────────────────────────────┼────────────────────────┼───────────────┤\n",
       "│ spatial_dropout1d_4             │ ?                      │             <span style=\"color: #00af00; text-decoration-color: #00af00\">0</span> │\n",
       "│ (<span style=\"color: #0087ff; text-decoration-color: #0087ff\">SpatialDropout1D</span>)              │                        │               │\n",
       "├─────────────────────────────────┼────────────────────────┼───────────────┤\n",
       "│ embedding_5 (<span style=\"color: #0087ff; text-decoration-color: #0087ff\">Embedding</span>)         │ ?                      │   <span style=\"color: #00af00; text-decoration-color: #00af00\">0</span> (unbuilt) │\n",
       "├─────────────────────────────────┼────────────────────────┼───────────────┤\n",
       "│ spatial_dropout1d_5             │ ?                      │             <span style=\"color: #00af00; text-decoration-color: #00af00\">0</span> │\n",
       "│ (<span style=\"color: #0087ff; text-decoration-color: #0087ff\">SpatialDropout1D</span>)              │                        │               │\n",
       "├─────────────────────────────────┼────────────────────────┼───────────────┤\n",
       "│ embedding_6 (<span style=\"color: #0087ff; text-decoration-color: #0087ff\">Embedding</span>)         │ ?                      │   <span style=\"color: #00af00; text-decoration-color: #00af00\">0</span> (unbuilt) │\n",
       "├─────────────────────────────────┼────────────────────────┼───────────────┤\n",
       "│ spatial_dropout1d_6             │ ?                      │             <span style=\"color: #00af00; text-decoration-color: #00af00\">0</span> │\n",
       "│ (<span style=\"color: #0087ff; text-decoration-color: #0087ff\">SpatialDropout1D</span>)              │                        │               │\n",
       "├─────────────────────────────────┼────────────────────────┼───────────────┤\n",
       "│ bidirectional (<span style=\"color: #0087ff; text-decoration-color: #0087ff\">Bidirectional</span>)   │ ?                      │   <span style=\"color: #00af00; text-decoration-color: #00af00\">0</span> (unbuilt) │\n",
       "├─────────────────────────────────┼────────────────────────┼───────────────┤\n",
       "│ bidirectional_1 (<span style=\"color: #0087ff; text-decoration-color: #0087ff\">Bidirectional</span>) │ ?                      │   <span style=\"color: #00af00; text-decoration-color: #00af00\">0</span> (unbuilt) │\n",
       "├─────────────────────────────────┼────────────────────────┼───────────────┤\n",
       "│ lstm_2 (<span style=\"color: #0087ff; text-decoration-color: #0087ff\">LSTM</span>)                   │ ?                      │   <span style=\"color: #00af00; text-decoration-color: #00af00\">0</span> (unbuilt) │\n",
       "├─────────────────────────────────┼────────────────────────┼───────────────┤\n",
       "│ lstm_3 (<span style=\"color: #0087ff; text-decoration-color: #0087ff\">LSTM</span>)                   │ ?                      │   <span style=\"color: #00af00; text-decoration-color: #00af00\">0</span> (unbuilt) │\n",
       "├─────────────────────────────────┼────────────────────────┼───────────────┤\n",
       "│ repeat_vector (<span style=\"color: #0087ff; text-decoration-color: #0087ff\">RepeatVector</span>)    │ ?                      │   <span style=\"color: #00af00; text-decoration-color: #00af00\">0</span> (unbuilt) │\n",
       "├─────────────────────────────────┼────────────────────────┼───────────────┤\n",
       "│ additive_attention              │ ?                      │   <span style=\"color: #00af00; text-decoration-color: #00af00\">0</span> (unbuilt) │\n",
       "│ (<span style=\"color: #0087ff; text-decoration-color: #0087ff\">AdditiveAttention</span>)             │                        │               │\n",
       "├─────────────────────────────────┼────────────────────────┼───────────────┤\n",
       "│ dense (<span style=\"color: #0087ff; text-decoration-color: #0087ff\">Dense</span>)                   │ ?                      │   <span style=\"color: #00af00; text-decoration-color: #00af00\">0</span> (unbuilt) │\n",
       "└─────────────────────────────────┴────────────────────────┴───────────────┘\n",
       "</pre>\n"
      ],
      "text/plain": [
       "┏━━━━━━━━━━━━━━━━━━━━━━━━━━━━━━━━━┳━━━━━━━━━━━━━━━━━━━━━━━━┳━━━━━━━━━━━━━━━┓\n",
       "┃\u001b[1m \u001b[0m\u001b[1mLayer (type)                   \u001b[0m\u001b[1m \u001b[0m┃\u001b[1m \u001b[0m\u001b[1mOutput Shape          \u001b[0m\u001b[1m \u001b[0m┃\u001b[1m \u001b[0m\u001b[1m      Param #\u001b[0m\u001b[1m \u001b[0m┃\n",
       "┡━━━━━━━━━━━━━━━━━━━━━━━━━━━━━━━━━╇━━━━━━━━━━━━━━━━━━━━━━━━╇━━━━━━━━━━━━━━━┩\n",
       "│ embedding (\u001b[38;5;33mEmbedding\u001b[0m)           │ ?                      │   \u001b[38;5;34m0\u001b[0m (unbuilt) │\n",
       "├─────────────────────────────────┼────────────────────────┼───────────────┤\n",
       "│ spatial_dropout1d               │ ?                      │             \u001b[38;5;34m0\u001b[0m │\n",
       "│ (\u001b[38;5;33mSpatialDropout1D\u001b[0m)              │                        │               │\n",
       "├─────────────────────────────────┼────────────────────────┼───────────────┤\n",
       "│ embedding_1 (\u001b[38;5;33mEmbedding\u001b[0m)         │ ?                      │   \u001b[38;5;34m0\u001b[0m (unbuilt) │\n",
       "├─────────────────────────────────┼────────────────────────┼───────────────┤\n",
       "│ spatial_dropout1d_1             │ ?                      │             \u001b[38;5;34m0\u001b[0m │\n",
       "│ (\u001b[38;5;33mSpatialDropout1D\u001b[0m)              │                        │               │\n",
       "├─────────────────────────────────┼────────────────────────┼───────────────┤\n",
       "│ embedding_2 (\u001b[38;5;33mEmbedding\u001b[0m)         │ ?                      │   \u001b[38;5;34m0\u001b[0m (unbuilt) │\n",
       "├─────────────────────────────────┼────────────────────────┼───────────────┤\n",
       "│ spatial_dropout1d_2             │ ?                      │             \u001b[38;5;34m0\u001b[0m │\n",
       "│ (\u001b[38;5;33mSpatialDropout1D\u001b[0m)              │                        │               │\n",
       "├─────────────────────────────────┼────────────────────────┼───────────────┤\n",
       "│ embedding_3 (\u001b[38;5;33mEmbedding\u001b[0m)         │ ?                      │   \u001b[38;5;34m0\u001b[0m (unbuilt) │\n",
       "├─────────────────────────────────┼────────────────────────┼───────────────┤\n",
       "│ spatial_dropout1d_3             │ ?                      │             \u001b[38;5;34m0\u001b[0m │\n",
       "│ (\u001b[38;5;33mSpatialDropout1D\u001b[0m)              │                        │               │\n",
       "├─────────────────────────────────┼────────────────────────┼───────────────┤\n",
       "│ embedding_4 (\u001b[38;5;33mEmbedding\u001b[0m)         │ ?                      │   \u001b[38;5;34m0\u001b[0m (unbuilt) │\n",
       "├─────────────────────────────────┼────────────────────────┼───────────────┤\n",
       "│ spatial_dropout1d_4             │ ?                      │             \u001b[38;5;34m0\u001b[0m │\n",
       "│ (\u001b[38;5;33mSpatialDropout1D\u001b[0m)              │                        │               │\n",
       "├─────────────────────────────────┼────────────────────────┼───────────────┤\n",
       "│ embedding_5 (\u001b[38;5;33mEmbedding\u001b[0m)         │ ?                      │   \u001b[38;5;34m0\u001b[0m (unbuilt) │\n",
       "├─────────────────────────────────┼────────────────────────┼───────────────┤\n",
       "│ spatial_dropout1d_5             │ ?                      │             \u001b[38;5;34m0\u001b[0m │\n",
       "│ (\u001b[38;5;33mSpatialDropout1D\u001b[0m)              │                        │               │\n",
       "├─────────────────────────────────┼────────────────────────┼───────────────┤\n",
       "│ embedding_6 (\u001b[38;5;33mEmbedding\u001b[0m)         │ ?                      │   \u001b[38;5;34m0\u001b[0m (unbuilt) │\n",
       "├─────────────────────────────────┼────────────────────────┼───────────────┤\n",
       "│ spatial_dropout1d_6             │ ?                      │             \u001b[38;5;34m0\u001b[0m │\n",
       "│ (\u001b[38;5;33mSpatialDropout1D\u001b[0m)              │                        │               │\n",
       "├─────────────────────────────────┼────────────────────────┼───────────────┤\n",
       "│ bidirectional (\u001b[38;5;33mBidirectional\u001b[0m)   │ ?                      │   \u001b[38;5;34m0\u001b[0m (unbuilt) │\n",
       "├─────────────────────────────────┼────────────────────────┼───────────────┤\n",
       "│ bidirectional_1 (\u001b[38;5;33mBidirectional\u001b[0m) │ ?                      │   \u001b[38;5;34m0\u001b[0m (unbuilt) │\n",
       "├─────────────────────────────────┼────────────────────────┼───────────────┤\n",
       "│ lstm_2 (\u001b[38;5;33mLSTM\u001b[0m)                   │ ?                      │   \u001b[38;5;34m0\u001b[0m (unbuilt) │\n",
       "├─────────────────────────────────┼────────────────────────┼───────────────┤\n",
       "│ lstm_3 (\u001b[38;5;33mLSTM\u001b[0m)                   │ ?                      │   \u001b[38;5;34m0\u001b[0m (unbuilt) │\n",
       "├─────────────────────────────────┼────────────────────────┼───────────────┤\n",
       "│ repeat_vector (\u001b[38;5;33mRepeatVector\u001b[0m)    │ ?                      │   \u001b[38;5;34m0\u001b[0m (unbuilt) │\n",
       "├─────────────────────────────────┼────────────────────────┼───────────────┤\n",
       "│ additive_attention              │ ?                      │   \u001b[38;5;34m0\u001b[0m (unbuilt) │\n",
       "│ (\u001b[38;5;33mAdditiveAttention\u001b[0m)             │                        │               │\n",
       "├─────────────────────────────────┼────────────────────────┼───────────────┤\n",
       "│ dense (\u001b[38;5;33mDense\u001b[0m)                   │ ?                      │   \u001b[38;5;34m0\u001b[0m (unbuilt) │\n",
       "└─────────────────────────────────┴────────────────────────┴───────────────┘\n"
      ]
     },
     "metadata": {},
     "output_type": "display_data"
    },
    {
     "data": {
      "text/html": [
       "<pre style=\"white-space:pre;overflow-x:auto;line-height:normal;font-family:Menlo,'DejaVu Sans Mono',consolas,'Courier New',monospace\"><span style=\"font-weight: bold\"> Total params: </span><span style=\"color: #00af00; text-decoration-color: #00af00\">0</span> (0.00 B)\n",
       "</pre>\n"
      ],
      "text/plain": [
       "\u001b[1m Total params: \u001b[0m\u001b[38;5;34m0\u001b[0m (0.00 B)\n"
      ]
     },
     "metadata": {},
     "output_type": "display_data"
    },
    {
     "data": {
      "text/html": [
       "<pre style=\"white-space:pre;overflow-x:auto;line-height:normal;font-family:Menlo,'DejaVu Sans Mono',consolas,'Courier New',monospace\"><span style=\"font-weight: bold\"> Trainable params: </span><span style=\"color: #00af00; text-decoration-color: #00af00\">0</span> (0.00 B)\n",
       "</pre>\n"
      ],
      "text/plain": [
       "\u001b[1m Trainable params: \u001b[0m\u001b[38;5;34m0\u001b[0m (0.00 B)\n"
      ]
     },
     "metadata": {},
     "output_type": "display_data"
    },
    {
     "data": {
      "text/html": [
       "<pre style=\"white-space:pre;overflow-x:auto;line-height:normal;font-family:Menlo,'DejaVu Sans Mono',consolas,'Courier New',monospace\"><span style=\"font-weight: bold\"> Non-trainable params: </span><span style=\"color: #00af00; text-decoration-color: #00af00\">0</span> (0.00 B)\n",
       "</pre>\n"
      ],
      "text/plain": [
       "\u001b[1m Non-trainable params: \u001b[0m\u001b[38;5;34m0\u001b[0m (0.00 B)\n"
      ]
     },
     "metadata": {},
     "output_type": "display_data"
    }
   ],
   "source": [
    "model = get_compiled_model()\n",
    "model.summary()\n"
   ]
  },
  {
   "cell_type": "code",
   "execution_count": 5,
   "metadata": {},
   "outputs": [
    {
     "name": "stdout",
     "output_type": "stream",
     "text": [
      "Epoch 1/50\n",
      "\u001b[1m71/71\u001b[0m \u001b[32m━━━━━━━━━━━━━━━━━━━━\u001b[0m\u001b[37m\u001b[0m \u001b[1m0s\u001b[0m 13ms/step - loss: 3.5603 - sparse_top_k: 0.1982\n",
      "Epoch 1: saving model to training_2/cp-0001.weights.h5\n",
      "\u001b[1m71/71\u001b[0m \u001b[32m━━━━━━━━━━━━━━━━━━━━\u001b[0m\u001b[37m\u001b[0m \u001b[1m4s\u001b[0m 19ms/step - loss: 3.5587 - sparse_top_k: 0.1988 - val_loss: 3.0517 - val_sparse_top_k: 0.4143\n",
      "Epoch 2/50\n",
      "\u001b[1m69/71\u001b[0m \u001b[32m━━━━━━━━━━━━━━━━━━━\u001b[0m\u001b[37m━\u001b[0m \u001b[1m0s\u001b[0m 17ms/step - loss: 2.9963 - sparse_top_k: 0.4035\n",
      "Epoch 2: saving model to training_2/cp-0002.weights.h5\n",
      "\u001b[1m71/71\u001b[0m \u001b[32m━━━━━━━━━━━━━━━━━━━━\u001b[0m\u001b[37m\u001b[0m \u001b[1m1s\u001b[0m 18ms/step - loss: 2.9943 - sparse_top_k: 0.4041 - val_loss: 2.8899 - val_sparse_top_k: 0.4457\n",
      "Epoch 3/50\n",
      "\u001b[1m70/71\u001b[0m \u001b[32m━━━━━━━━━━━━━━━━━━━\u001b[0m\u001b[37m━\u001b[0m \u001b[1m0s\u001b[0m 19ms/step - loss: 2.8725 - sparse_top_k: 0.4485\n",
      "Epoch 3: saving model to training_2/cp-0003.weights.h5\n",
      "\u001b[1m71/71\u001b[0m \u001b[32m━━━━━━━━━━━━━━━━━━━━\u001b[0m\u001b[37m\u001b[0m \u001b[1m1s\u001b[0m 19ms/step - loss: 2.8721 - sparse_top_k: 0.4484 - val_loss: 2.8633 - val_sparse_top_k: 0.4457\n",
      "Epoch 4/50\n",
      "\u001b[1m70/71\u001b[0m \u001b[32m━━━━━━━━━━━━━━━━━━━\u001b[0m\u001b[37m━\u001b[0m \u001b[1m0s\u001b[0m 19ms/step - loss: 2.8522 - sparse_top_k: 0.4476\n",
      "Epoch 4: saving model to training_2/cp-0004.weights.h5\n",
      "\u001b[1m71/71\u001b[0m \u001b[32m━━━━━━━━━━━━━━━━━━━━\u001b[0m\u001b[37m\u001b[0m \u001b[1m1s\u001b[0m 19ms/step - loss: 2.8519 - sparse_top_k: 0.4476 - val_loss: 2.8409 - val_sparse_top_k: 0.4629\n",
      "Epoch 5/50\n",
      "\u001b[1m70/71\u001b[0m \u001b[32m━━━━━━━━━━━━━━━━━━━\u001b[0m\u001b[37m━\u001b[0m \u001b[1m0s\u001b[0m 19ms/step - loss: 2.8268 - sparse_top_k: 0.4516\n",
      "Epoch 5: saving model to training_2/cp-0005.weights.h5\n",
      "\u001b[1m71/71\u001b[0m \u001b[32m━━━━━━━━━━━━━━━━━━━━\u001b[0m\u001b[37m\u001b[0m \u001b[1m1s\u001b[0m 19ms/step - loss: 2.8269 - sparse_top_k: 0.4515 - val_loss: 2.8408 - val_sparse_top_k: 0.4314\n",
      "Epoch 6/50\n",
      "\u001b[1m70/71\u001b[0m \u001b[32m━━━━━━━━━━━━━━━━━━━\u001b[0m\u001b[37m━\u001b[0m \u001b[1m0s\u001b[0m 19ms/step - loss: 2.8279 - sparse_top_k: 0.4490\n",
      "Epoch 6: saving model to training_2/cp-0006.weights.h5\n",
      "\u001b[1m71/71\u001b[0m \u001b[32m━━━━━━━━━━━━━━━━━━━━\u001b[0m\u001b[37m\u001b[0m \u001b[1m1s\u001b[0m 19ms/step - loss: 2.8279 - sparse_top_k: 0.4489 - val_loss: 2.8308 - val_sparse_top_k: 0.4571\n",
      "Epoch 7/50\n",
      "\u001b[1m70/71\u001b[0m \u001b[32m━━━━━━━━━━━━━━━━━━━\u001b[0m\u001b[37m━\u001b[0m \u001b[1m0s\u001b[0m 19ms/step - loss: 2.8273 - sparse_top_k: 0.4358\n",
      "Epoch 7: saving model to training_2/cp-0007.weights.h5\n",
      "\u001b[1m71/71\u001b[0m \u001b[32m━━━━━━━━━━━━━━━━━━━━\u001b[0m\u001b[37m\u001b[0m \u001b[1m1s\u001b[0m 19ms/step - loss: 2.8270 - sparse_top_k: 0.4360 - val_loss: 2.8361 - val_sparse_top_k: 0.4486\n",
      "Epoch 8/50\n",
      "\u001b[1m70/71\u001b[0m \u001b[32m━━━━━━━━━━━━━━━━━━━\u001b[0m\u001b[37m━\u001b[0m \u001b[1m0s\u001b[0m 19ms/step - loss: 2.8232 - sparse_top_k: 0.4589\n",
      "Epoch 8: saving model to training_2/cp-0008.weights.h5\n",
      "\u001b[1m71/71\u001b[0m \u001b[32m━━━━━━━━━━━━━━━━━━━━\u001b[0m\u001b[37m\u001b[0m \u001b[1m1s\u001b[0m 19ms/step - loss: 2.8231 - sparse_top_k: 0.4587 - val_loss: 2.8392 - val_sparse_top_k: 0.4543\n",
      "Epoch 9/50\n",
      "\u001b[1m70/71\u001b[0m \u001b[32m━━━━━━━━━━━━━━━━━━━\u001b[0m\u001b[37m━\u001b[0m \u001b[1m0s\u001b[0m 19ms/step - loss: 2.8053 - sparse_top_k: 0.4557\n",
      "Epoch 9: saving model to training_2/cp-0009.weights.h5\n",
      "\u001b[1m71/71\u001b[0m \u001b[32m━━━━━━━━━━━━━━━━━━━━\u001b[0m\u001b[37m\u001b[0m \u001b[1m1s\u001b[0m 20ms/step - loss: 2.8055 - sparse_top_k: 0.4556 - val_loss: 2.8388 - val_sparse_top_k: 0.4600\n",
      "Epoch 10/50\n",
      "\u001b[1m70/71\u001b[0m \u001b[32m━━━━━━━━━━━━━━━━━━━\u001b[0m\u001b[37m━\u001b[0m \u001b[1m0s\u001b[0m 19ms/step - loss: 2.8077 - sparse_top_k: 0.4459\n",
      "Epoch 10: saving model to training_2/cp-0010.weights.h5\n",
      "\u001b[1m71/71\u001b[0m \u001b[32m━━━━━━━━━━━━━━━━━━━━\u001b[0m\u001b[37m\u001b[0m \u001b[1m1s\u001b[0m 20ms/step - loss: 2.8078 - sparse_top_k: 0.4459 - val_loss: 2.8379 - val_sparse_top_k: 0.4314\n",
      "Epoch 11/50\n",
      "\u001b[1m70/71\u001b[0m \u001b[32m━━━━━━━━━━━━━━━━━━━\u001b[0m\u001b[37m━\u001b[0m \u001b[1m0s\u001b[0m 19ms/step - loss: 2.8085 - sparse_top_k: 0.4575\n",
      "Epoch 11: saving model to training_2/cp-0011.weights.h5\n",
      "\u001b[1m71/71\u001b[0m \u001b[32m━━━━━━━━━━━━━━━━━━━━\u001b[0m\u001b[37m\u001b[0m \u001b[1m1s\u001b[0m 20ms/step - loss: 2.8084 - sparse_top_k: 0.4575 - val_loss: 2.8422 - val_sparse_top_k: 0.4343\n",
      "Epoch 12/50\n",
      "\u001b[1m70/71\u001b[0m \u001b[32m━━━━━━━━━━━━━━━━━━━\u001b[0m\u001b[37m━\u001b[0m \u001b[1m0s\u001b[0m 19ms/step - loss: 2.8019 - sparse_top_k: 0.4579\n",
      "Epoch 12: saving model to training_2/cp-0012.weights.h5\n",
      "\u001b[1m71/71\u001b[0m \u001b[32m━━━━━━━━━━━━━━━━━━━━\u001b[0m\u001b[37m\u001b[0m \u001b[1m1s\u001b[0m 20ms/step - loss: 2.8019 - sparse_top_k: 0.4578 - val_loss: 2.8540 - val_sparse_top_k: 0.4229\n",
      "Epoch 13/50\n",
      "\u001b[1m70/71\u001b[0m \u001b[32m━━━━━━━━━━━━━━━━━━━\u001b[0m\u001b[37m━\u001b[0m \u001b[1m0s\u001b[0m 19ms/step - loss: 2.7908 - sparse_top_k: 0.4509\n",
      "Epoch 13: saving model to training_2/cp-0013.weights.h5\n",
      "\u001b[1m71/71\u001b[0m \u001b[32m━━━━━━━━━━━━━━━━━━━━\u001b[0m\u001b[37m\u001b[0m \u001b[1m1s\u001b[0m 20ms/step - loss: 2.7912 - sparse_top_k: 0.4509 - val_loss: 2.8399 - val_sparse_top_k: 0.4400\n",
      "Epoch 14/50\n",
      "\u001b[1m70/71\u001b[0m \u001b[32m━━━━━━━━━━━━━━━━━━━\u001b[0m\u001b[37m━\u001b[0m \u001b[1m0s\u001b[0m 19ms/step - loss: 2.7980 - sparse_top_k: 0.4588\n",
      "Epoch 14: saving model to training_2/cp-0014.weights.h5\n",
      "\u001b[1m71/71\u001b[0m \u001b[32m━━━━━━━━━━━━━━━━━━━━\u001b[0m\u001b[37m\u001b[0m \u001b[1m1s\u001b[0m 19ms/step - loss: 2.7980 - sparse_top_k: 0.4589 - val_loss: 2.8810 - val_sparse_top_k: 0.4286\n",
      "Epoch 15/50\n",
      "\u001b[1m70/71\u001b[0m \u001b[32m━━━━━━━━━━━━━━━━━━━\u001b[0m\u001b[37m━\u001b[0m \u001b[1m0s\u001b[0m 19ms/step - loss: 2.7980 - sparse_top_k: 0.4660\n",
      "Epoch 15: saving model to training_2/cp-0015.weights.h5\n",
      "\u001b[1m71/71\u001b[0m \u001b[32m━━━━━━━━━━━━━━━━━━━━\u001b[0m\u001b[37m\u001b[0m \u001b[1m1s\u001b[0m 20ms/step - loss: 2.7980 - sparse_top_k: 0.4659 - val_loss: 2.8551 - val_sparse_top_k: 0.4257\n",
      "Epoch 16/50\n",
      "\u001b[1m70/71\u001b[0m \u001b[32m━━━━━━━━━━━━━━━━━━━\u001b[0m\u001b[37m━\u001b[0m \u001b[1m0s\u001b[0m 19ms/step - loss: 2.7941 - sparse_top_k: 0.4548\n",
      "Epoch 16: saving model to training_2/cp-0016.weights.h5\n",
      "\u001b[1m71/71\u001b[0m \u001b[32m━━━━━━━━━━━━━━━━━━━━\u001b[0m\u001b[37m\u001b[0m \u001b[1m1s\u001b[0m 19ms/step - loss: 2.7942 - sparse_top_k: 0.4548 - val_loss: 2.8603 - val_sparse_top_k: 0.4143\n",
      "Epoch 17/50\n",
      "\u001b[1m70/71\u001b[0m \u001b[32m━━━━━━━━━━━━━━━━━━━\u001b[0m\u001b[37m━\u001b[0m \u001b[1m0s\u001b[0m 19ms/step - loss: 2.7940 - sparse_top_k: 0.4692\n",
      "Epoch 17: saving model to training_2/cp-0017.weights.h5\n",
      "\u001b[1m71/71\u001b[0m \u001b[32m━━━━━━━━━━━━━━━━━━━━\u001b[0m\u001b[37m\u001b[0m \u001b[1m1s\u001b[0m 20ms/step - loss: 2.7940 - sparse_top_k: 0.4690 - val_loss: 2.8377 - val_sparse_top_k: 0.4486\n",
      "Epoch 18/50\n",
      "\u001b[1m70/71\u001b[0m \u001b[32m━━━━━━━━━━━━━━━━━━━\u001b[0m\u001b[37m━\u001b[0m \u001b[1m0s\u001b[0m 19ms/step - loss: 2.7938 - sparse_top_k: 0.4604\n",
      "Epoch 18: saving model to training_2/cp-0018.weights.h5\n",
      "\u001b[1m71/71\u001b[0m \u001b[32m━━━━━━━━━━━━━━━━━━━━\u001b[0m\u001b[37m\u001b[0m \u001b[1m1s\u001b[0m 20ms/step - loss: 2.7938 - sparse_top_k: 0.4603 - val_loss: 2.8485 - val_sparse_top_k: 0.4486\n",
      "Epoch 19/50\n",
      "\u001b[1m70/71\u001b[0m \u001b[32m━━━━━━━━━━━━━━━━━━━\u001b[0m\u001b[37m━\u001b[0m \u001b[1m0s\u001b[0m 19ms/step - loss: 2.7927 - sparse_top_k: 0.4673\n",
      "Epoch 19: saving model to training_2/cp-0019.weights.h5\n",
      "\u001b[1m71/71\u001b[0m \u001b[32m━━━━━━━━━━━━━━━━━━━━\u001b[0m\u001b[37m\u001b[0m \u001b[1m1s\u001b[0m 20ms/step - loss: 2.7928 - sparse_top_k: 0.4672 - val_loss: 2.8409 - val_sparse_top_k: 0.4514\n",
      "Epoch 20/50\n",
      "\u001b[1m70/71\u001b[0m \u001b[32m━━━━━━━━━━━━━━━━━━━\u001b[0m\u001b[37m━\u001b[0m \u001b[1m0s\u001b[0m 19ms/step - loss: 2.7837 - sparse_top_k: 0.4689\n",
      "Epoch 20: saving model to training_2/cp-0020.weights.h5\n",
      "\u001b[1m71/71\u001b[0m \u001b[32m━━━━━━━━━━━━━━━━━━━━\u001b[0m\u001b[37m\u001b[0m \u001b[1m1s\u001b[0m 20ms/step - loss: 2.7838 - sparse_top_k: 0.4687 - val_loss: 2.8460 - val_sparse_top_k: 0.4314\n",
      "Epoch 21/50\n",
      "\u001b[1m70/71\u001b[0m \u001b[32m━━━━━━━━━━━━━━━━━━━\u001b[0m\u001b[37m━\u001b[0m \u001b[1m0s\u001b[0m 19ms/step - loss: 2.7784 - sparse_top_k: 0.4637\n",
      "Epoch 21: saving model to training_2/cp-0021.weights.h5\n",
      "\u001b[1m71/71\u001b[0m \u001b[32m━━━━━━━━━━━━━━━━━━━━\u001b[0m\u001b[37m\u001b[0m \u001b[1m1s\u001b[0m 19ms/step - loss: 2.7787 - sparse_top_k: 0.4636 - val_loss: 2.8347 - val_sparse_top_k: 0.4457\n",
      "Epoch 22/50\n",
      "\u001b[1m70/71\u001b[0m \u001b[32m━━━━━━━━━━━━━━━━━━━\u001b[0m\u001b[37m━\u001b[0m \u001b[1m0s\u001b[0m 19ms/step - loss: 2.7841 - sparse_top_k: 0.4634\n",
      "Epoch 22: saving model to training_2/cp-0022.weights.h5\n",
      "\u001b[1m71/71\u001b[0m \u001b[32m━━━━━━━━━━━━━━━━━━━━\u001b[0m\u001b[37m\u001b[0m \u001b[1m1s\u001b[0m 20ms/step - loss: 2.7842 - sparse_top_k: 0.4634 - val_loss: 2.8351 - val_sparse_top_k: 0.4571\n",
      "Epoch 23/50\n",
      "\u001b[1m70/71\u001b[0m \u001b[32m━━━━━━━━━━━━━━━━━━━\u001b[0m\u001b[37m━\u001b[0m \u001b[1m0s\u001b[0m 19ms/step - loss: 2.7848 - sparse_top_k: 0.4648\n",
      "Epoch 23: saving model to training_2/cp-0023.weights.h5\n",
      "\u001b[1m71/71\u001b[0m \u001b[32m━━━━━━━━━━━━━━━━━━━━\u001b[0m\u001b[37m\u001b[0m \u001b[1m1s\u001b[0m 20ms/step - loss: 2.7848 - sparse_top_k: 0.4648 - val_loss: 2.8497 - val_sparse_top_k: 0.4314\n",
      "Epoch 24/50\n",
      "\u001b[1m70/71\u001b[0m \u001b[32m━━━━━━━━━━━━━━━━━━━\u001b[0m\u001b[37m━\u001b[0m \u001b[1m0s\u001b[0m 19ms/step - loss: 2.7737 - sparse_top_k: 0.4734\n",
      "Epoch 24: saving model to training_2/cp-0024.weights.h5\n",
      "\u001b[1m71/71\u001b[0m \u001b[32m━━━━━━━━━━━━━━━━━━━━\u001b[0m\u001b[37m\u001b[0m \u001b[1m1s\u001b[0m 20ms/step - loss: 2.7739 - sparse_top_k: 0.4732 - val_loss: 2.8552 - val_sparse_top_k: 0.4371\n",
      "Epoch 25/50\n",
      "\u001b[1m70/71\u001b[0m \u001b[32m━━━━━━━━━━━━━━━━━━━\u001b[0m\u001b[37m━\u001b[0m \u001b[1m0s\u001b[0m 19ms/step - loss: 2.7789 - sparse_top_k: 0.4693\n",
      "Epoch 25: saving model to training_2/cp-0025.weights.h5\n",
      "\u001b[1m71/71\u001b[0m \u001b[32m━━━━━━━━━━━━━━━━━━━━\u001b[0m\u001b[37m\u001b[0m \u001b[1m1s\u001b[0m 19ms/step - loss: 2.7789 - sparse_top_k: 0.4693 - val_loss: 2.8441 - val_sparse_top_k: 0.4457\n",
      "Epoch 26/50\n",
      "\u001b[1m70/71\u001b[0m \u001b[32m━━━━━━━━━━━━━━━━━━━\u001b[0m\u001b[37m━\u001b[0m \u001b[1m0s\u001b[0m 19ms/step - loss: 2.7713 - sparse_top_k: 0.4721\n",
      "Epoch 26: saving model to training_2/cp-0026.weights.h5\n",
      "\u001b[1m71/71\u001b[0m \u001b[32m━━━━━━━━━━━━━━━━━━━━\u001b[0m\u001b[37m\u001b[0m \u001b[1m1s\u001b[0m 20ms/step - loss: 2.7715 - sparse_top_k: 0.4721 - val_loss: 2.8416 - val_sparse_top_k: 0.4600\n",
      "Epoch 27/50\n",
      "\u001b[1m70/71\u001b[0m \u001b[32m━━━━━━━━━━━━━━━━━━━\u001b[0m\u001b[37m━\u001b[0m \u001b[1m0s\u001b[0m 19ms/step - loss: 2.7576 - sparse_top_k: 0.4770\n",
      "Epoch 27: saving model to training_2/cp-0027.weights.h5\n",
      "\u001b[1m71/71\u001b[0m \u001b[32m━━━━━━━━━━━━━━━━━━━━\u001b[0m\u001b[37m\u001b[0m \u001b[1m1s\u001b[0m 20ms/step - loss: 2.7580 - sparse_top_k: 0.4769 - val_loss: 2.8432 - val_sparse_top_k: 0.4114\n",
      "Epoch 28/50\n",
      "\u001b[1m70/71\u001b[0m \u001b[32m━━━━━━━━━━━━━━━━━━━\u001b[0m\u001b[37m━\u001b[0m \u001b[1m0s\u001b[0m 19ms/step - loss: 2.7731 - sparse_top_k: 0.4708\n",
      "Epoch 28: saving model to training_2/cp-0028.weights.h5\n",
      "\u001b[1m71/71\u001b[0m \u001b[32m━━━━━━━━━━━━━━━━━━━━\u001b[0m\u001b[37m\u001b[0m \u001b[1m1s\u001b[0m 20ms/step - loss: 2.7733 - sparse_top_k: 0.4707 - val_loss: 2.8389 - val_sparse_top_k: 0.4429\n",
      "Epoch 29/50\n",
      "\u001b[1m70/71\u001b[0m \u001b[32m━━━━━━━━━━━━━━━━━━━\u001b[0m\u001b[37m━\u001b[0m \u001b[1m0s\u001b[0m 19ms/step - loss: 2.7753 - sparse_top_k: 0.4787\n",
      "Epoch 29: saving model to training_2/cp-0029.weights.h5\n",
      "\u001b[1m71/71\u001b[0m \u001b[32m━━━━━━━━━━━━━━━━━━━━\u001b[0m\u001b[37m\u001b[0m \u001b[1m1s\u001b[0m 19ms/step - loss: 2.7752 - sparse_top_k: 0.4787 - val_loss: 2.8512 - val_sparse_top_k: 0.4257\n",
      "Epoch 30/50\n",
      "\u001b[1m70/71\u001b[0m \u001b[32m━━━━━━━━━━━━━━━━━━━\u001b[0m\u001b[37m━\u001b[0m \u001b[1m0s\u001b[0m 19ms/step - loss: 2.7670 - sparse_top_k: 0.4764\n",
      "Epoch 30: saving model to training_2/cp-0030.weights.h5\n",
      "\u001b[1m71/71\u001b[0m \u001b[32m━━━━━━━━━━━━━━━━━━━━\u001b[0m\u001b[37m\u001b[0m \u001b[1m1s\u001b[0m 19ms/step - loss: 2.7671 - sparse_top_k: 0.4764 - val_loss: 2.8494 - val_sparse_top_k: 0.4457\n",
      "Epoch 31/50\n",
      "\u001b[1m70/71\u001b[0m \u001b[32m━━━━━━━━━━━━━━━━━━━\u001b[0m\u001b[37m━\u001b[0m \u001b[1m0s\u001b[0m 19ms/step - loss: 2.7533 - sparse_top_k: 0.4842\n",
      "Epoch 31: saving model to training_2/cp-0031.weights.h5\n",
      "\u001b[1m71/71\u001b[0m \u001b[32m━━━━━━━━━━━━━━━━━━━━\u001b[0m\u001b[37m\u001b[0m \u001b[1m1s\u001b[0m 19ms/step - loss: 2.7537 - sparse_top_k: 0.4840 - val_loss: 2.8492 - val_sparse_top_k: 0.4371\n",
      "Epoch 32/50\n",
      "\u001b[1m70/71\u001b[0m \u001b[32m━━━━━━━━━━━━━━━━━━━\u001b[0m\u001b[37m━\u001b[0m \u001b[1m0s\u001b[0m 19ms/step - loss: 2.7730 - sparse_top_k: 0.4731\n",
      "Epoch 32: saving model to training_2/cp-0032.weights.h5\n",
      "\u001b[1m71/71\u001b[0m \u001b[32m━━━━━━━━━━━━━━━━━━━━\u001b[0m\u001b[37m\u001b[0m \u001b[1m1s\u001b[0m 20ms/step - loss: 2.7729 - sparse_top_k: 0.4732 - val_loss: 2.8619 - val_sparse_top_k: 0.4486\n",
      "Epoch 33/50\n",
      "\u001b[1m70/71\u001b[0m \u001b[32m━━━━━━━━━━━━━━━━━━━\u001b[0m\u001b[37m━\u001b[0m \u001b[1m0s\u001b[0m 19ms/step - loss: 2.7662 - sparse_top_k: 0.4704\n",
      "Epoch 33: saving model to training_2/cp-0033.weights.h5\n",
      "\u001b[1m71/71\u001b[0m \u001b[32m━━━━━━━━━━━━━━━━━━━━\u001b[0m\u001b[37m\u001b[0m \u001b[1m1s\u001b[0m 19ms/step - loss: 2.7663 - sparse_top_k: 0.4705 - val_loss: 2.8532 - val_sparse_top_k: 0.4486\n",
      "Epoch 34/50\n",
      "\u001b[1m70/71\u001b[0m \u001b[32m━━━━━━━━━━━━━━━━━━━\u001b[0m\u001b[37m━\u001b[0m \u001b[1m0s\u001b[0m 19ms/step - loss: 2.7527 - sparse_top_k: 0.4821\n",
      "Epoch 34: saving model to training_2/cp-0034.weights.h5\n",
      "\u001b[1m71/71\u001b[0m \u001b[32m━━━━━━━━━━━━━━━━━━━━\u001b[0m\u001b[37m\u001b[0m \u001b[1m1s\u001b[0m 19ms/step - loss: 2.7530 - sparse_top_k: 0.4820 - val_loss: 2.8676 - val_sparse_top_k: 0.4400\n",
      "Epoch 35/50\n",
      "\u001b[1m70/71\u001b[0m \u001b[32m━━━━━━━━━━━━━━━━━━━\u001b[0m\u001b[37m━\u001b[0m \u001b[1m0s\u001b[0m 18ms/step - loss: 2.7655 - sparse_top_k: 0.4802\n",
      "Epoch 35: saving model to training_2/cp-0035.weights.h5\n",
      "\u001b[1m71/71\u001b[0m \u001b[32m━━━━━━━━━━━━━━━━━━━━\u001b[0m\u001b[37m\u001b[0m \u001b[1m1s\u001b[0m 19ms/step - loss: 2.7654 - sparse_top_k: 0.4803 - val_loss: 2.8610 - val_sparse_top_k: 0.4629\n",
      "Epoch 36/50\n",
      "\u001b[1m70/71\u001b[0m \u001b[32m━━━━━━━━━━━━━━━━━━━\u001b[0m\u001b[37m━\u001b[0m \u001b[1m0s\u001b[0m 19ms/step - loss: 2.7568 - sparse_top_k: 0.4853\n",
      "Epoch 36: saving model to training_2/cp-0036.weights.h5\n",
      "\u001b[1m71/71\u001b[0m \u001b[32m━━━━━━━━━━━━━━━━━━━━\u001b[0m\u001b[37m\u001b[0m \u001b[1m1s\u001b[0m 19ms/step - loss: 2.7569 - sparse_top_k: 0.4853 - val_loss: 2.8655 - val_sparse_top_k: 0.4371\n",
      "Epoch 37/50\n",
      "\u001b[1m70/71\u001b[0m \u001b[32m━━━━━━━━━━━━━━━━━━━\u001b[0m\u001b[37m━\u001b[0m \u001b[1m0s\u001b[0m 19ms/step - loss: 2.7425 - sparse_top_k: 0.4864\n",
      "Epoch 37: saving model to training_2/cp-0037.weights.h5\n",
      "\u001b[1m71/71\u001b[0m \u001b[32m━━━━━━━━━━━━━━━━━━━━\u001b[0m\u001b[37m\u001b[0m \u001b[1m1s\u001b[0m 20ms/step - loss: 2.7428 - sparse_top_k: 0.4863 - val_loss: 2.8705 - val_sparse_top_k: 0.4114\n",
      "Epoch 38/50\n",
      "\u001b[1m70/71\u001b[0m \u001b[32m━━━━━━━━━━━━━━━━━━━\u001b[0m\u001b[37m━\u001b[0m \u001b[1m0s\u001b[0m 19ms/step - loss: 2.7464 - sparse_top_k: 0.4878\n",
      "Epoch 38: saving model to training_2/cp-0038.weights.h5\n",
      "\u001b[1m71/71\u001b[0m \u001b[32m━━━━━━━━━━━━━━━━━━━━\u001b[0m\u001b[37m\u001b[0m \u001b[1m1s\u001b[0m 20ms/step - loss: 2.7466 - sparse_top_k: 0.4878 - val_loss: 2.8669 - val_sparse_top_k: 0.4514\n",
      "Epoch 39/50\n",
      "\u001b[1m70/71\u001b[0m \u001b[32m━━━━━━━━━━━━━━━━━━━\u001b[0m\u001b[37m━\u001b[0m \u001b[1m0s\u001b[0m 19ms/step - loss: 2.7426 - sparse_top_k: 0.4890\n",
      "Epoch 39: saving model to training_2/cp-0039.weights.h5\n",
      "\u001b[1m71/71\u001b[0m \u001b[32m━━━━━━━━━━━━━━━━━━━━\u001b[0m\u001b[37m\u001b[0m \u001b[1m1s\u001b[0m 19ms/step - loss: 2.7428 - sparse_top_k: 0.4891 - val_loss: 2.8678 - val_sparse_top_k: 0.4486\n",
      "Epoch 40/50\n",
      "\u001b[1m70/71\u001b[0m \u001b[32m━━━━━━━━━━━━━━━━━━━\u001b[0m\u001b[37m━\u001b[0m \u001b[1m0s\u001b[0m 19ms/step - loss: 2.7579 - sparse_top_k: 0.4890\n",
      "Epoch 40: saving model to training_2/cp-0040.weights.h5\n",
      "\u001b[1m71/71\u001b[0m \u001b[32m━━━━━━━━━━━━━━━━━━━━\u001b[0m\u001b[37m\u001b[0m \u001b[1m1s\u001b[0m 20ms/step - loss: 2.7578 - sparse_top_k: 0.4890 - val_loss: 2.8701 - val_sparse_top_k: 0.4429\n",
      "Epoch 41/50\n",
      "\u001b[1m70/71\u001b[0m \u001b[32m━━━━━━━━━━━━━━━━━━━\u001b[0m\u001b[37m━\u001b[0m \u001b[1m0s\u001b[0m 19ms/step - loss: 2.7511 - sparse_top_k: 0.4956\n",
      "Epoch 41: saving model to training_2/cp-0041.weights.h5\n",
      "\u001b[1m71/71\u001b[0m \u001b[32m━━━━━━━━━━━━━━━━━━━━\u001b[0m\u001b[37m\u001b[0m \u001b[1m1s\u001b[0m 20ms/step - loss: 2.7510 - sparse_top_k: 0.4955 - val_loss: 2.8581 - val_sparse_top_k: 0.4743\n",
      "Epoch 42/50\n",
      "\u001b[1m70/71\u001b[0m \u001b[32m━━━━━━━━━━━━━━━━━━━\u001b[0m\u001b[37m━\u001b[0m \u001b[1m0s\u001b[0m 19ms/step - loss: 2.7496 - sparse_top_k: 0.4841\n",
      "Epoch 42: saving model to training_2/cp-0042.weights.h5\n",
      "\u001b[1m71/71\u001b[0m \u001b[32m━━━━━━━━━━━━━━━━━━━━\u001b[0m\u001b[37m\u001b[0m \u001b[1m1s\u001b[0m 19ms/step - loss: 2.7494 - sparse_top_k: 0.4843 - val_loss: 2.8798 - val_sparse_top_k: 0.4457\n",
      "Epoch 43/50\n",
      "\u001b[1m70/71\u001b[0m \u001b[32m━━━━━━━━━━━━━━━━━━━\u001b[0m\u001b[37m━\u001b[0m \u001b[1m0s\u001b[0m 19ms/step - loss: 2.7418 - sparse_top_k: 0.4981\n",
      "Epoch 43: saving model to training_2/cp-0043.weights.h5\n",
      "\u001b[1m71/71\u001b[0m \u001b[32m━━━━━━━━━━━━━━━━━━━━\u001b[0m\u001b[37m\u001b[0m \u001b[1m1s\u001b[0m 20ms/step - loss: 2.7419 - sparse_top_k: 0.4980 - val_loss: 2.8580 - val_sparse_top_k: 0.4629\n",
      "Epoch 44/50\n",
      "\u001b[1m70/71\u001b[0m \u001b[32m━━━━━━━━━━━━━━━━━━━\u001b[0m\u001b[37m━\u001b[0m \u001b[1m0s\u001b[0m 19ms/step - loss: 2.7478 - sparse_top_k: 0.4940\n",
      "Epoch 44: saving model to training_2/cp-0044.weights.h5\n",
      "\u001b[1m71/71\u001b[0m \u001b[32m━━━━━━━━━━━━━━━━━━━━\u001b[0m\u001b[37m\u001b[0m \u001b[1m1s\u001b[0m 20ms/step - loss: 2.7477 - sparse_top_k: 0.4940 - val_loss: 2.8804 - val_sparse_top_k: 0.4629\n",
      "Epoch 45/50\n",
      "\u001b[1m70/71\u001b[0m \u001b[32m━━━━━━━━━━━━━━━━━━━\u001b[0m\u001b[37m━\u001b[0m \u001b[1m0s\u001b[0m 19ms/step - loss: 2.7431 - sparse_top_k: 0.5010\n",
      "Epoch 45: saving model to training_2/cp-0045.weights.h5\n",
      "\u001b[1m71/71\u001b[0m \u001b[32m━━━━━━━━━━━━━━━━━━━━\u001b[0m\u001b[37m\u001b[0m \u001b[1m1s\u001b[0m 20ms/step - loss: 2.7429 - sparse_top_k: 0.5009 - val_loss: 2.8865 - val_sparse_top_k: 0.4486\n",
      "Epoch 46/50\n",
      "\u001b[1m70/71\u001b[0m \u001b[32m━━━━━━━━━━━━━━━━━━━\u001b[0m\u001b[37m━\u001b[0m \u001b[1m0s\u001b[0m 18ms/step - loss: 2.7366 - sparse_top_k: 0.4934\n",
      "Epoch 46: saving model to training_2/cp-0046.weights.h5\n",
      "\u001b[1m71/71\u001b[0m \u001b[32m━━━━━━━━━━━━━━━━━━━━\u001b[0m\u001b[37m\u001b[0m \u001b[1m1s\u001b[0m 19ms/step - loss: 2.7366 - sparse_top_k: 0.4934 - val_loss: 2.8617 - val_sparse_top_k: 0.4514\n",
      "Epoch 47/50\n",
      "\u001b[1m70/71\u001b[0m \u001b[32m━━━━━━━━━━━━━━━━━━━\u001b[0m\u001b[37m━\u001b[0m \u001b[1m0s\u001b[0m 19ms/step - loss: 2.7257 - sparse_top_k: 0.4998\n",
      "Epoch 47: saving model to training_2/cp-0047.weights.h5\n",
      "\u001b[1m71/71\u001b[0m \u001b[32m━━━━━━━━━━━━━━━━━━━━\u001b[0m\u001b[37m\u001b[0m \u001b[1m1s\u001b[0m 20ms/step - loss: 2.7259 - sparse_top_k: 0.4997 - val_loss: 2.8791 - val_sparse_top_k: 0.4200\n",
      "Epoch 48/50\n",
      "\u001b[1m70/71\u001b[0m \u001b[32m━━━━━━━━━━━━━━━━━━━\u001b[0m\u001b[37m━\u001b[0m \u001b[1m0s\u001b[0m 19ms/step - loss: 2.7258 - sparse_top_k: 0.4998\n",
      "Epoch 48: saving model to training_2/cp-0048.weights.h5\n",
      "\u001b[1m71/71\u001b[0m \u001b[32m━━━━━━━━━━━━━━━━━━━━\u001b[0m\u001b[37m\u001b[0m \u001b[1m1s\u001b[0m 20ms/step - loss: 2.7260 - sparse_top_k: 0.4998 - val_loss: 2.8637 - val_sparse_top_k: 0.4543\n",
      "Epoch 49/50\n",
      "\u001b[1m70/71\u001b[0m \u001b[32m━━━━━━━━━━━━━━━━━━━\u001b[0m\u001b[37m━\u001b[0m \u001b[1m0s\u001b[0m 19ms/step - loss: 2.7081 - sparse_top_k: 0.5102\n",
      "Epoch 49: saving model to training_2/cp-0049.weights.h5\n",
      "\u001b[1m71/71\u001b[0m \u001b[32m━━━━━━━━━━━━━━━━━━━━\u001b[0m\u001b[37m\u001b[0m \u001b[1m1s\u001b[0m 20ms/step - loss: 2.7084 - sparse_top_k: 0.5101 - val_loss: 2.8728 - val_sparse_top_k: 0.4543\n",
      "Epoch 50/50\n",
      "\u001b[1m70/71\u001b[0m \u001b[32m━━━━━━━━━━━━━━━━━━━\u001b[0m\u001b[37m━\u001b[0m \u001b[1m0s\u001b[0m 19ms/step - loss: 2.7238 - sparse_top_k: 0.5048\n",
      "Epoch 50: saving model to training_2/cp-0050.weights.h5\n",
      "\u001b[1m71/71\u001b[0m \u001b[32m━━━━━━━━━━━━━━━━━━━━\u001b[0m\u001b[37m\u001b[0m \u001b[1m1s\u001b[0m 20ms/step - loss: 2.7237 - sparse_top_k: 0.5048 - val_loss: 2.8805 - val_sparse_top_k: 0.4429\n"
     ]
    }
   ],
   "source": [
    "history = train(model, X_train, y_train, X_test, y_test, epochs=50, batch_size=BATCH_SIZE)"
   ]
  },
  {
   "cell_type": "code",
   "execution_count": 6,
   "metadata": {},
   "outputs": [
    {
     "name": "stdout",
     "output_type": "stream",
     "text": [
      "0.47428572177886963\n"
     ]
    },
    {
     "data": {
      "image/png": "[encoded data removed]",
      "text/plain": [
       "<Figure size 800x600 with 1 Axes>"
      ]
     },
     "metadata": {},
     "output_type": "display_data"
    }
   ],
   "source": [
    "hist = pd.DataFrame(history)\n",
    "print(hist['val_sparse_top_k'].max())\n",
    "\n",
    "plt.figure(figsize = (8, 6))\n",
    "plt.semilogy(hist['sparse_top_k'], '-r', label = 'Training')\n",
    "plt.semilogy(hist['val_sparse_top_k'], '-b', label = 'Validation')\n",
    "plt.ylabel('Sparse Top K Accuracy', fontsize = 14)\n",
    "plt.xlabel('Epochs', fontsize = 14)\n",
    "plt.legend(fontsize = 14)\n",
    "plt.grid()\n",
    "plt.show()"
   ]
  },
  {
   "cell_type": "code",
   "execution_count": 7,
   "metadata": {},
   "outputs": [
    {
     "name": "stdout",
     "output_type": "stream",
     "text": [
      "\u001b[1m2/2\u001b[0m \u001b[32m━━━━━━━━━━━━━━━━━━━━\u001b[0m\u001b[37m\u001b[0m \u001b[1m1s\u001b[0m 290ms/step\n"
     ]
    }
   ],
   "source": [
    "model.load_weights('model/Ilotto.keras')\n",
    "pred = model.predict(X_test)\n",
    "pred = np.argmax(pred, axis = 2)"
   ]
  },
  {
   "cell_type": "code",
   "execution_count": 8,
   "metadata": {},
   "outputs": [
    {
     "name": "stdout",
     "output_type": "stream",
     "text": [
      "Prediction:\t [ 2 12 18 24 32 37  6]\n",
      "GoundTruth:\t [ 6 13 18 20 22 28  5]\n",
      "----------------------------------------\n",
      "Prediction:\t [ 2 12 21 23 32 37  3]\n",
      "GoundTruth:\t [ 1  3  8 14 17 33  2]\n",
      "----------------------------------------\n",
      "Prediction:\t [ 3 12 19 30 32 37  3]\n",
      "GoundTruth:\t [ 2  8 11 21 25 34  2]\n",
      "----------------------------------------\n",
      "Prediction:\t [ 9 21 27 30 34 37  2]\n",
      "GoundTruth:\t [10 11 23 26 29 34  1]\n",
      "----------------------------------------\n",
      "Prediction:\t [ 1  8 17 24 30 37  4]\n",
      "GoundTruth:\t [ 4  7  9 10 12 27  7]\n",
      "----------------------------------------\n",
      "Prediction:\t [ 1  8 17 27 32 37  4]\n",
      "GoundTruth:\t [ 3  5 14 19 22 27  2]\n",
      "----------------------------------------\n",
      "Prediction:\t [ 1  8 19 30 32 37  4]\n",
      "GoundTruth:\t [ 1  4 16 26 27 34  2]\n",
      "----------------------------------------\n",
      "Prediction:\t [ 1  8 17 24 32 37  4]\n",
      "GoundTruth:\t [11 15 21 22 28 29  1]\n",
      "----------------------------------------\n",
      "Prediction:\t [ 1  8 21 30 33 36  1]\n",
      "GoundTruth:\t [15 17 21 30 34 37  7]\n",
      "----------------------------------------\n",
      "Prediction:\t [ 1  8 19 24 33 37  1]\n",
      "GoundTruth:\t [ 2  3  7 10 14 18  1]\n",
      "----------------------------------------\n",
      "Prediction:\t [ 1  8 21 23 33 36  7]\n",
      "GoundTruth:\t [ 3  7  8 21 24 35  2]\n",
      "----------------------------------------\n",
      "Prediction:\t [ 8  9 22 30 33 36  1]\n",
      "GoundTruth:\t [ 3 14 25 29 30 31  6]\n",
      "----------------------------------------\n",
      "Prediction:\t [ 3  9 19 30 33 37  1]\n",
      "GoundTruth:\t [12 13 21 23 24 33  3]\n",
      "----------------------------------------\n",
      "Prediction:\t [ 1  9 19 25 33 36  1]\n",
      "GoundTruth:\t [ 2 11 17 18 25 34  4]\n",
      "----------------------------------------\n",
      "Prediction:\t [ 1  9 19 25 32 37  1]\n",
      "GoundTruth:\t [10 20 26 28 30 33  3]\n",
      "----------------------------------------\n",
      "Prediction:\t [ 1  8 12 19 26 36  1]\n",
      "GoundTruth:\t [ 1  5 24 27 28 31  4]\n",
      "----------------------------------------\n",
      "Prediction:\t [ 1  9 12 25 26 36  1]\n",
      "GoundTruth:\t [ 2  9 12 15 19 37  7]\n",
      "----------------------------------------\n",
      "Prediction:\t [ 1  6 10 19 25 36  1]\n",
      "GoundTruth:\t [ 7 24 25 27 30 35  7]\n",
      "----------------------------------------\n",
      "Prediction:\t [ 1  5 11 19 25 36  1]\n",
      "GoundTruth:\t [ 2 11 17 19 20 31  6]\n",
      "----------------------------------------\n",
      "Prediction:\t [ 1  5 11 19 25 36  1]\n",
      "GoundTruth:\t [ 5  8 14 15 26 31  1]\n",
      "----------------------------------------\n",
      "Prediction:\t [ 1 11 11 19 28 36  1]\n",
      "GoundTruth:\t [ 4 13 16 30 32 37  1]\n",
      "----------------------------------------\n",
      "Prediction:\t [ 1 11 19 19 28 37  1]\n",
      "GoundTruth:\t [ 2 15 19 23 26 37  4]\n",
      "----------------------------------------\n",
      "Prediction:\t [ 1 11 19 25 28 37  1]\n",
      "GoundTruth:\t [11 14 23 24 34 35  3]\n",
      "----------------------------------------\n",
      "Prediction:\t [ 1  8 12 19 28 36  1]\n",
      "GoundTruth:\t [ 1  6 12 18 31 34  3]\n",
      "----------------------------------------\n",
      "Prediction:\t [ 1  6 11 19 28 36  1]\n",
      "GoundTruth:\t [ 2 21 25 32 34 35  6]\n",
      "----------------------------------------\n",
      "Prediction:\t [ 1  6 11 19 26 36  1]\n",
      "GoundTruth:\t [ 4  5 20 23 33 35  5]\n",
      "----------------------------------------\n",
      "Prediction:\t [ 1  8 11 19 26 37  4]\n",
      "GoundTruth:\t [ 6 17 21 22 28 33  5]\n",
      "----------------------------------------\n",
      "Prediction:\t [ 1  8 17 24 30 37  4]\n",
      "GoundTruth:\t [ 1  4 12 15 32 33  4]\n",
      "----------------------------------------\n",
      "Prediction:\t [ 1  8 11 19 26 36  1]\n",
      "GoundTruth:\t [ 6 13 15 24 30 34  7]\n",
      "----------------------------------------\n",
      "Prediction:\t [ 1  8 19 24 32 37  1]\n",
      "GoundTruth:\t [ 3  7 10 12 15 36  7]\n",
      "----------------------------------------\n",
      "Prediction:\t [ 1  9 17 25 26 36  7]\n",
      "GoundTruth:\t [14 18 22 26 29 35  5]\n",
      "----------------------------------------\n",
      "Prediction:\t [ 1  9 15 25 26 36  7]\n",
      "GoundTruth:\t [ 9 21 26 27 31 34  5]\n",
      "----------------------------------------\n",
      "Prediction:\t [ 1  9 18 25 32 37  1]\n",
      "GoundTruth:\t [ 2  3  6 10 27 32  2]\n",
      "----------------------------------------\n",
      "Prediction:\t [ 3  9 21 30 32 37  7]\n",
      "GoundTruth:\t [10 24 28 31 36 37  6]\n",
      "----------------------------------------\n",
      "Prediction:\t [ 9 21 21 30 34 37  7]\n",
      "GoundTruth:\t [ 4  5 11 20 27 32  7]\n",
      "----------------------------------------\n",
      "Prediction:\t [ 1  8 11 21 30 37  7]\n",
      "GoundTruth:\t [11 15 16 22 24 37  1]\n",
      "----------------------------------------\n",
      "Prediction:\t [ 1  8 11 19 30 37  6]\n",
      "GoundTruth:\t [ 2  7  9 19 20 35  7]\n",
      "----------------------------------------\n",
      "Prediction:\t [ 1  8 18 23 30 37  6]\n",
      "GoundTruth:\t [ 3  7 10 13 25 33  6]\n",
      "----------------------------------------\n",
      "Prediction:\t [ 1  8 17 24 30 37  4]\n",
      "GoundTruth:\t [ 3  7 24 28 30 34  1]\n",
      "----------------------------------------\n",
      "Prediction:\t [ 1  8 11 19 30 37  6]\n",
      "GoundTruth:\t [ 4 16 17 24 33 35  5]\n",
      "----------------------------------------\n",
      "Prediction:\t [ 1  8 19 23 30 37  6]\n",
      "GoundTruth:\t [ 1  6 16 23 26 27  2]\n",
      "----------------------------------------\n",
      "Prediction:\t [ 1  8 17 23 30 37  4]\n",
      "GoundTruth:\t [12 14 18 21 22 29  4]\n",
      "----------------------------------------\n",
      "Prediction:\t [ 1  8 19 24 30 37  6]\n",
      "GoundTruth:\t [ 4  5  9 10 21 26  2]\n",
      "----------------------------------------\n",
      "Prediction:\t [ 1  8 19 19 30 37  1]\n",
      "GoundTruth:\t [ 1  3  9 12 29 36  3]\n",
      "----------------------------------------\n",
      "Prediction:\t [ 1  4 19 24 30 37  4]\n",
      "GoundTruth:\t [ 3  7  9 11 23 34  4]\n",
      "----------------------------------------\n",
      "Prediction:\t [ 1  8 19 23 30 37  4]\n",
      "GoundTruth:\t [ 1 11 27 32 35 36  3]\n",
      "----------------------------------------\n",
      "Prediction:\t [ 1  8 19 23 30 37  1]\n",
      "GoundTruth:\t [ 5  6 13 25 28 36  7]\n",
      "----------------------------------------\n",
      "Prediction:\t [ 1  8 12 19 30 37  1]\n",
      "GoundTruth:\t [14 21 23 26 28 30  5]\n",
      "----------------------------------------\n",
      "Prediction:\t [ 1  8 12 19 30 37  1]\n",
      "GoundTruth:\t [ 3 15 21 23 27 30  1]\n",
      "----------------------------------------\n",
      "Prediction:\t [ 1  8 19 23 32 37  3]\n",
      "GoundTruth:\t [19 21 29 30 34 35  2]\n",
      "----------------------------------------\n"
     ]
    }
   ],
   "source": [
    "for i in range(y_test.shape[0]):\n",
    "    print('Prediction:\\t', pred[i] + 1)\n",
    "    print('GoundTruth:\\t', y_test[i] + 1)\n",
    "    print('-' * 40)"
   ]
  },
  {
   "cell_type": "code",
   "execution_count": 9,
   "metadata": {},
   "outputs": [
    {
     "name": "stdout",
     "output_type": "stream",
     "text": [
      "[[[ 1  7 18 23 26 31  4]\n",
      "  [ 4  8 15 24 29 30  7]\n",
      "  [11 16 28 29 31 35  3]\n",
      "  [ 5  7 19 26 32 33  6]\n",
      "  [ 8 18 25 29 32 35  2]\n",
      "  [ 5 13 30 33 34 36  3]\n",
      "  [ 5  6 26 27 30 32  2]\n",
      "  [17 22 27 33 34 35  2]\n",
      "  [ 7 12 15 22 28 33  6]\n",
      "  [ 6 13 18 20 22 28  5]]]\n"
     ]
    }
   ],
   "source": [
    "X_latest = X_test[0][1:]\n",
    "X_latest = np.concatenate([X_latest, y_test[0].reshape(1, 7)], axis = 0)\n",
    "X_latest = X_latest.reshape(1, X_latest.shape[0], X_latest.shape[1])\n",
    "print(X_latest + 1)"
   ]
  },
  {
   "cell_type": "code",
   "execution_count": 10,
   "metadata": {},
   "outputs": [
    {
     "name": "stdout",
     "output_type": "stream",
     "text": [
      "\u001b[1m1/1\u001b[0m \u001b[32m━━━━━━━━━━━━━━━━━━━━\u001b[0m\u001b[37m\u001b[0m \u001b[1m0s\u001b[0m 14ms/step\n",
      "[ 2  8 21 24 29 37  7]\n"
     ]
    }
   ],
   "source": [
    "pred_latest = model.predict(X_latest)\n",
    "pred_latest = np.squeeze(pred_latest)\n",
    "pred_latest_greedy = np.argmax(pred_latest, axis = 1)\n",
    "print(pred_latest_greedy + 1)"
   ]
  },
  {
   "cell_type": "code",
   "execution_count": 11,
   "metadata": {},
   "outputs": [
    {
     "name": "stderr",
     "output_type": "stream",
     "text": [
      "2025-03-29 18:25:26,752 - helpers - INFO - Beam search decoder\n"
     ]
    },
    {
     "name": "stdout",
     "output_type": "stream",
     "text": [
      "Beam Width:\t 10\n",
      "Replace:\t True\n",
      "-------------------------------------------------------------------------------------\n",
      "Prediction:  [ 2  8 21 24 29 37  7] \tLog Likelihood:  -15.898898370918223\n",
      "Prediction:  [ 2  8 21 24 26 37  7] \tLog Likelihood:  -15.92944404841316\n",
      "Prediction:  [ 2  8 21 24 32 37  7] \tLog Likelihood:  -15.955014718757392\n",
      "Prediction:  [ 2  8 18 24 29 37  7] \tLog Likelihood:  -15.95828463696232\n",
      "Prediction:  [ 2  8 21 24 29 34  7] \tLog Likelihood:  -15.960441394076163\n",
      "Prediction:  [ 8  8 21 24 29 37  7] \tLog Likelihood:  -15.979327416672119\n",
      "Prediction:  [ 2  8 17 24 29 37  7] \tLog Likelihood:  -15.982577982510827\n",
      "Prediction:  [ 2  8 18 24 26 37  7] \tLog Likelihood:  -15.988830314457257\n",
      "Prediction:  [ 2  8 21 26 29 37  7] \tLog Likelihood:  -15.989697758282366\n",
      "Prediction:  [ 2  8 21 24 26 34  7] \tLog Likelihood:  -15.9909870715711\n"
     ]
    }
   ],
   "source": [
    "beam_width = 10\n",
    "replace = True\n",
    "\n",
    "result = beam_search_decoder(pred_latest, beam_width, replace)\n",
    "print('Beam Width:\\t', beam_width)\n",
    "print('Replace:\\t', replace)\n",
    "print('-' * 85)\n",
    "for seq in result:\n",
    "    print('Prediction: ', np.array(seq[0]) + 1, '\\tLog Likelihood: ', seq[1])"
   ]
  },
  {
   "cell_type": "code",
   "execution_count": 12,
   "metadata": {},
   "outputs": [
    {
     "name": "stderr",
     "output_type": "stream",
     "text": [
      "2025-03-29 18:25:26,757 - helpers - INFO - Beam search decoder\n"
     ]
    },
    {
     "name": "stdout",
     "output_type": "stream",
     "text": [
      "Beam Width:\t 10\n",
      "Replace:\t False\n",
      "-------------------------------------------------------------------------------------\n",
      "Prediction:  [ 2  8 21 24 29 37  7] \tLog Likelihood:  -15.898898370918223\n",
      "Prediction:  [ 2  8 21 24 26 37  7] \tLog Likelihood:  -15.92944404841316\n",
      "Prediction:  [ 2  8 21 24 32 37  7] \tLog Likelihood:  -15.955014718757392\n",
      "Prediction:  [ 2  8 18 24 29 37  7] \tLog Likelihood:  -15.95828463696232\n",
      "Prediction:  [ 2  8 21 24 29 34  7] \tLog Likelihood:  -15.960441394076163\n",
      "Prediction:  [ 2  8 17 24 29 37  7] \tLog Likelihood:  -15.982577982510827\n",
      "Prediction:  [ 2  8 18 24 26 37  7] \tLog Likelihood:  -15.988830314457257\n",
      "Prediction:  [ 2  8 21 26 29 37  7] \tLog Likelihood:  -15.989697758282366\n",
      "Prediction:  [ 2  8 21 24 26 34  7] \tLog Likelihood:  -15.9909870715711\n",
      "Prediction:  [ 2  8 21 24 28 37  7] \tLog Likelihood:  -15.99501709984224\n"
     ]
    }
   ],
   "source": [
    "beam_width = 10\n",
    "replace = False\n",
    "\n",
    "result = beam_search_decoder(pred_latest, beam_width, replace)\n",
    "print('Beam Width:\\t', beam_width)\n",
    "print('Replace:\\t', replace)\n",
    "print('-' * 85)\n",
    "for seq in result:\n",
    "    print('Prediction: ', np.array(seq[0]) + 1, '\\tLog Likelihood: ', seq[1])"
   ]
  }
 ],
 "metadata": {
  "kernelspec": {
   "display_name": ".venv",
   "language": "python",
   "name": "python3"
  },
  "language_info": {
   "codemirror_mode": {
    "name": "ipython",
    "version": 3
   },
   "file_extension": ".py",
   "mimetype": "text/x-python",
   "name": "python",
   "nbconvert_exporter": "python",
   "pygments_lexer": "ipython3",
   "version": "3.12.7"
  },
  "orig_nbformat": 4
 },
 "nbformat": 4,
 "nbformat_minor": 2
}
